{
 "cells": [
  {
   "cell_type": "markdown",
   "metadata": {},
   "source": [
    "# Model 2 \n",
    "\n",
    "Model seeks to improve on model 1 in several ways:\n",
    "\n",
    "#### Inputs\n",
    "* Take in larger satellite images, try 512x256 (OCF's size, 13x the size I've used so far)\n",
    "* Expand PV dataset to cover two years (~doubles training size)\n",
    "* Add up several PV readings to give a smoother result\n",
    "\n",
    "#### Model \n",
    "* Write model in pytorch\n",
    "* Start with estimating PV based on satellite image\n",
    "* Stretch goal: write RNN\n",
    "\n",
    "#### Bugs\n",
    "* Explore why PV readings had two peaks during day in model 1 test evaluations"
   ]
  },
  {
   "cell_type": "code",
   "execution_count": null,
   "metadata": {},
   "outputs": [],
   "source": []
  }
 ],
 "metadata": {
  "language_info": {
   "name": "python"
  },
  "orig_nbformat": 4
 },
 "nbformat": 4,
 "nbformat_minor": 2
}
