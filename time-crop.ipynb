{
 "cells": [
  {
   "cell_type": "markdown",
   "metadata": {},
   "source": [
    "For reasons beyond me, I can't seem to run the crop function from Illinois here. But I could run it in a different directory, and I saved the output of times in the range 06:00 to 20:00 in the file sat_times.npy. "
   ]
  },
  {
   "cell_type": "code",
   "execution_count": null,
   "metadata": {},
   "outputs": [],
   "source": [
    "# import xarray as xr\n",
    "# import numpy as np\n",
    "# import pathlib\n",
    "# import datetime\n",
    "# # from datetime import datetime, timedelta\n",
    "# import pandas as pd\n",
    "# import tqdm"
   ]
  },
  {
   "cell_type": "code",
   "execution_count": null,
   "metadata": {},
   "outputs": [],
   "source": [
    "# # SATELLITE_ZARR_PATH = \"gs://public-datasets-eumetsat-solar-forecasting/satellite/EUMETSAT/SEVIRI_RSS/v3/eumetsat_seviri_hrv_uk.zarr\"\n",
    "\n",
    "# SATELLITE_ZARR_PATH = \"devon-crop.zarr\"\n",
    "\n",
    "\n",
    "# dataset = xr.open_dataset(\n",
    "#     SATELLITE_ZARR_PATH, \n",
    "#     engine=\"zarr\",\n",
    "#     chunks=\"auto\",  # Load the data as a Dask array\n",
    "# )\n",
    "\n",
    "# # print(dataset)\n"
   ]
  },
  {
   "cell_type": "code",
   "execution_count": null,
   "metadata": {},
   "outputs": [],
   "source": [
    "# def get_day_slice(date):\n",
    "#     data_slice = dataset.loc[\n",
    "#         {\n",
    "#             # 10am to 4pm\n",
    "#             \"time\": slice(\n",
    "#                 date + datetime.timedelta(hours=6),\n",
    "#                 date + datetime.timedelta(hours=20),\n",
    "#             )\n",
    "#         }\n",
    "#     ].isel(\n",
    "#         x=slice(0, 100),\n",
    "#         y=slice(0, 100),\n",
    "#     )\n",
    "    \n",
    "#     # sometimes there is no data\n",
    "#     if len(data_slice.time) == 0:\n",
    "#         return None\n",
    "#     return data_slice"
   ]
  },
  {
   "cell_type": "code",
   "execution_count": null,
   "metadata": {},
   "outputs": [],
   "source": [
    "# start_date = datetime.datetime(2020, 1, 1)\n",
    "# end_date = datetime.datetime(2021, 11, 1)\n",
    "\n",
    "# cur = start_date\n",
    "# days_to_get = []\n",
    "# while cur != end_date + datetime.timedelta(days=1):\n",
    "#     days_to_get.append(cur)\n",
    "#     cur = cur + datetime.timedelta(days=1)\n",
    "\n",
    "# print(len(days_to_get))\n",
    "# get_day_slice(days_to_get[1])"
   ]
  },
  {
   "cell_type": "code",
   "execution_count": null,
   "metadata": {},
   "outputs": [],
   "source": [
    "# slices = []\n",
    "# for date in tqdm.tqdm(days_to_get):\n",
    "#     slc = get_day_slice(date)\n",
    "#     if slc is None:\n",
    "#         continue\n",
    "#     slices.append(slc)"
   ]
  },
  {
   "cell_type": "code",
   "execution_count": null,
   "metadata": {},
   "outputs": [],
   "source": [
    "# combined_pv_slices = xr.concat(slices, dim='time')\n",
    "\n",
    "# # These are the satellite times as a list\n",
    "# sat_times_in_range = combined_pv_slices.time.to_numpy()\n",
    "# np.save('sat_times', sat_times_in_range)\n",
    "\n",
    "# pv_slices_in_range = combined_pv_slices['data'].to_numpy\n",
    "# np.save('pv_slices', pv_slices_in_range)"
   ]
  },
  {
   "cell_type": "code",
   "execution_count": null,
   "metadata": {},
   "outputs": [],
   "source": []
  }
 ],
 "metadata": {
  "interpreter": {
   "hash": "97cc609b13305c559618ec78a438abc56230b9381f827f22d070313b9a1f3777"
  },
  "kernelspec": {
   "display_name": "Python 3.10.4 64-bit",
   "language": "python",
   "name": "python3"
  },
  "language_info": {
   "codemirror_mode": {
    "name": "ipython",
    "version": 3
   },
   "file_extension": ".py",
   "mimetype": "text/x-python",
   "name": "python",
   "nbconvert_exporter": "python",
   "pygments_lexer": "ipython3",
   "version": "3.10.4"
  },
  "orig_nbformat": 4
 },
 "nbformat": 4,
 "nbformat_minor": 2
}
