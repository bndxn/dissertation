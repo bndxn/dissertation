{
  "nbformat": 4,
  "nbformat_minor": 0,
  "metadata": {
    "colab": {
      "name": "Model 32 - ConvLSTM vs CNN, 1hr inputs with pv, diff outputs.ipynb",
      "provenance": [],
      "collapsed_sections": [],
      "machine_shape": "hm",
      "mount_file_id": "1k1xWW2f4H67NxwHzKWpD_I6DW0cQC9Mg",
      "authorship_tag": "ABX9TyPqiodJ3YQhhPgqCsnabJyY",
      "include_colab_link": true
    },
    "kernelspec": {
      "name": "python3",
      "display_name": "Python 3"
    },
    "language_info": {
      "name": "python"
    },
    "accelerator": "GPU",
    "gpuClass": "standard"
  },
  "cells": [
    {
      "cell_type": "markdown",
      "metadata": {
        "id": "view-in-github",
        "colab_type": "text"
      },
      "source": [
        "<a href=\"https://colab.research.google.com/github/bndxn/dissertation/blob/main/Model_32_ConvLSTM_vs_CNN%2C_1hr_inputs_with_pv%2C_diff_outputs.ipynb\" target=\"_parent\"><img src=\"https://colab.research.google.com/assets/colab-badge.svg\" alt=\"Open In Colab\"/></a>"
      ]
    },
    {
      "cell_type": "code",
      "source": [
        "pip install suncalc --quiet"
      ],
      "metadata": {
        "id": "o-Y1bqnsWkXw",
        "colab": {
          "base_uri": "https://localhost:8080/"
        },
        "outputId": "70eb1984-52cb-45c2-ee45-1c0567de1526"
      },
      "execution_count": null,
      "outputs": [
        {
          "output_type": "stream",
          "name": "stdout",
          "text": [
            "  Building wheel for suncalc (setup.py) ... \u001b[?25l\u001b[?25hdone\n"
          ]
        }
      ]
    },
    {
      "cell_type": "code",
      "source": [
        "import numpy as np\n",
        "import pandas as pd\n",
        "from datetime import datetime\n",
        "import matplotlib.pyplot as plt\n",
        "from google.colab import drive\n",
        "from suncalc import get_position, get_times\n",
        "import tensorflow as tf\n",
        "from tensorflow import keras\n",
        "from keras import layers\n",
        "from sklearn import utils"
      ],
      "metadata": {
        "id": "5qUWx4njWvzo"
      },
      "execution_count": null,
      "outputs": []
    },
    {
      "cell_type": "code",
      "source": [
        "PATH = '/content/drive/My Drive/Colab Notebooks/dissertation/data_pipeline/sat_pipeline'\n",
        "\n",
        "train_sat_images = np.load('{}/train_sat_images_reduced_smaller.npy'.format(PATH))\n",
        "train_sat_times = np.load('{}/train_sat_times_reduced.npy'.format(PATH))\n",
        "\n",
        "test_sat_images = np.load('{}/test_sat_images_reduced_smaller.npy'.format(PATH))\n",
        "test_sat_times = np.load('{}/test_sat_times_reduced.npy'.format(PATH))\n",
        "\n",
        "test_pv = np.load('{}/test_pv_lined_with_reduced_sat_normalised.npy'.format(PATH))\n",
        "train_pv = np.load('{}/train_pv_lined_with_reduced_sat_normalised.npy'.format(PATH))"
      ],
      "metadata": {
        "id": "WvdUoIDlWzNy"
      },
      "execution_count": null,
      "outputs": []
    },
    {
      "cell_type": "markdown",
      "source": [
        "# Code to make blocks"
      ],
      "metadata": {
        "id": "2yCuEb63W3O2"
      }
    },
    {
      "cell_type": "code",
      "source": [
        "def get_list_of_days(list_of_timestamps):\n",
        "\n",
        "  list_of_days = []\n",
        "\n",
        "  for i in list_of_timestamps:\n",
        "    list_of_days.append(pd.Timestamp(i).date())\n",
        "\n",
        "  return list(dict.fromkeys(list_of_days))\n",
        "\n",
        "def get_blocks_of_timestamps_for_one_day(date, list_of_timestamps, block_length):\n",
        "\n",
        "  timestamps_in_day = []\n",
        "\n",
        "  for i in list_of_timestamps:\n",
        "    if pd.Timestamp(i).date() == date:\n",
        "      timestamps_in_day.append(i)\n",
        "\n",
        "  blocks_in_day = (len(timestamps_in_day) // (block_length)) \n",
        "\n",
        "  block_list = []\n",
        "\n",
        "  for i in range(blocks_in_day):\n",
        "    block = timestamps_in_day[(i*block_length):(i+1)*block_length] # We make a slice from the timestamps_in_day list\n",
        "    block_list.append(block)\n",
        "\n",
        "  return np.asarray(block_list)\n",
        "\n",
        "def get_full_block_list(list_of_timestamps, block_length):\n",
        "\n",
        "  list_of_days = get_list_of_days(list_of_timestamps)\n",
        "\n",
        "  full_block_list = []\n",
        "\n",
        "  for day in list_of_days:\n",
        "    block_list_for_day = get_blocks_of_timestamps_for_one_day(day, list_of_timestamps, block_length)\n",
        "    \n",
        "    if block_list_for_day.shape[0] != 0: # some days there are no PV readings, exclude those\n",
        "      full_block_list.append(block_list_for_day)\n",
        "\n",
        "  full_block_list = np.concatenate(full_block_list)\n",
        "\n",
        "  return full_block_list\n",
        "\n",
        "def make_altitude_array(pv_timestamps):\n",
        "\n",
        "  lat = 50.73\n",
        "  lon = -4.19\n",
        "\n",
        "  n_blocks = pv_timestamps.shape[0]\n",
        "  slices_per_block = pv_timestamps.shape[1]\n",
        "\n",
        "  altitudes = np.zeros(shape=(n_blocks, slices_per_block))\n",
        "\n",
        "  for i in range(n_blocks):\n",
        "    for j in range(slices_per_block):\n",
        "      altitudes[i,j] = get_position(pd.Timestamp(pv_timestamps[i,j]), lon, lat).get('altitude')\n",
        "\n",
        "  #print('Size :', altitudes.shape)  \n",
        "  return altitudes"
      ],
      "metadata": {
        "id": "uHJ_LnsWW4gC"
      },
      "execution_count": null,
      "outputs": []
    },
    {
      "cell_type": "code",
      "source": [
        "# This function creates sat and pv blocks\n",
        "\n",
        "def get_sat_and_pv_blocks(sat_times_list, sat_images_list, pv_list, n_sat_images, n_pv_targets):\n",
        "\n",
        "  full_block_list = get_full_block_list(sat_times_list, n_sat_images + n_pv_targets)\n",
        "\n",
        "  length = full_block_list.shape[0]\n",
        "\n",
        "  sat_images_array = np.zeros(shape=(length, n_sat_images, 64, 64))\n",
        "  pv_inputs_array = np.zeros(shape=(length, n_sat_images))\n",
        "  pv_targets_array = np.zeros(shape=(length, n_pv_targets))\n",
        "\n",
        "\n",
        "  sat_timestamps = np.zeros(shape=(length, n_sat_images))\n",
        "  pv_timestamps = np.zeros(shape=(length, n_pv_targets))\n",
        "\n",
        "\n",
        "  for i in range(full_block_list.shape[0]):\n",
        "    for j in range(full_block_list.shape[1]):\n",
        "\n",
        "      # For the first 12 values, get the satellite images, which we find using the index\n",
        "\n",
        "      if j < n_sat_images:\n",
        "        timestamp = full_block_list[i,j]\n",
        "        index = np.where(sat_times_list == timestamp)[0][0]\n",
        "        sat_images_array[i,j] = sat_images_list[index]\n",
        "        sat_timestamps[i,j] = timestamp\n",
        "        pv_inputs_array[i,j] = pv_list[index]\n",
        "\n",
        "      # If j is larger than 12, then get the pv readings, again using the index\n",
        "      \n",
        "      else:\n",
        "        timestamp = full_block_list[i,j]\n",
        "        index = np.where(sat_times_list == timestamp)[0][0]\n",
        "        pv_targets_array[i,(j-n_sat_images)] = pv_list[index]\n",
        "        pv_timestamps[i,(j-n_sat_images)] = timestamp\n",
        "\n",
        "\n",
        "  # Now create the altitudes\n",
        "  pv_altitudes = make_altitude_array(pv_timestamps)\n",
        "\n",
        "\n",
        "  print('Satellite and PV blocks generated.')\n",
        "  print('\\nSat images array:', sat_images_array.shape, ', PV targets array:', pv_targets_array.shape)\n",
        "  print('Timestamps, sat', sat_timestamps.shape, ' , pv', pv_timestamps.shape)\n",
        "  print('PV inputs', pv_inputs_array.shape)\n",
        "  print('Altitudes for PV timestamps', pv_altitudes.shape)\n",
        "\n",
        "  return sat_images_array, pv_inputs_array, pv_altitudes, pv_targets_array, sat_timestamps, pv_timestamps\n"
      ],
      "metadata": {
        "id": "RO6MRpkcW5s3"
      },
      "execution_count": null,
      "outputs": []
    },
    {
      "cell_type": "markdown",
      "source": [
        "# Input function"
      ],
      "metadata": {
        "id": "StTHvkYfXDC4"
      }
    },
    {
      "cell_type": "code",
      "source": [
        "def dataloader(n_preds, n_back, train_sat_images, train_sat_times, test_sat_images, test_sat_times, train_pv, test_pv):\n",
        "\n",
        "  train_sat_images_blocks, train_pv_inputs, train_pv_altitudes, train_pv_targets,  train_sat_timestamps, train_pv_timestamps = get_sat_and_pv_blocks(sat_times_list=train_sat_times, \n",
        "                                                                                                              sat_images_list=train_sat_images, \n",
        "                                                                                                              pv_list=train_pv, \n",
        "                                                                                                              n_sat_images=n_back,\n",
        "                                                                                                              n_pv_targets=n_preds)\n",
        "\n",
        "  test_sat_images_blocks, test_pv_inputs, test_pv_altitudes, test_pv_targets, test_sat_timestamps, test_pv_timestamps = get_sat_and_pv_blocks(sat_times_list=test_sat_times, \n",
        "                                                                                                          sat_images_list=test_sat_images, \n",
        "                                                                                                          pv_list=test_pv, \n",
        "                                                                                                          n_sat_images=n_back, \n",
        "                                                                                                          n_pv_targets=n_preds)\n",
        "\n",
        "  combined_timestamps = np.append(test_pv_timestamps, train_pv_timestamps)\n",
        "  timestep_max = combined_timestamps.max()\n",
        "\n",
        "  del combined_timestamps\n",
        "\n",
        "  train_pv_timestamps_normalised = np.divide(train_pv_timestamps, timestep_max)\n",
        "  test_pv_timestamps_normalised = np.divide(test_pv_timestamps, timestep_max)\n",
        "\n",
        "  x_train_sat, x_train_alt, x_train_timestamps, x_train_pv_inputs, y_train = utils.shuffle(train_sat_images_blocks,  \n",
        "                                                                                          train_pv_altitudes, \n",
        "                                                                                          train_pv_timestamps_normalised, \n",
        "                                                                                          train_pv_inputs, \n",
        "                                                                                          train_pv_targets)\n",
        "\n",
        "  x_test_sat, x_test_alt, x_test_timestamps, x_test_pv_inputs, y_test = utils.shuffle(test_sat_images_blocks, \n",
        "                                                                                      test_pv_altitudes, \n",
        "                                                                                      test_pv_timestamps_normalised, \n",
        "                                                                                      test_pv_inputs, \n",
        "                                                                                      test_pv_targets)\n",
        "\n",
        "  x_train_sat = np.expand_dims(x_train_sat, axis=-1)\n",
        "  x_test_sat = np.expand_dims(x_test_sat, axis=-1)\n",
        "\n",
        "  x_train_alt = np.expand_dims(x_train_alt, axis=-1)\n",
        "  x_test_alt = np.expand_dims(x_test_alt, axis=-1)\n",
        "\n",
        "  x_train_timestamps = np.expand_dims(x_train_timestamps, axis=-1)\n",
        "  x_test_timestamps = np.expand_dims(x_test_timestamps, axis=-1)\n",
        "\n",
        "  x_train_pv_inputs = np.expand_dims(x_train_pv_inputs, axis=-1)\n",
        "  x_test_pv_inputs = np.expand_dims(x_test_pv_inputs, axis=-1) \n",
        "\n",
        "  del train_sat_images_blocks, test_sat_images_blocks\n",
        "  del train_sat_images, test_sat_images\n",
        "\n",
        "  return x_train_sat, x_train_pv_inputs, y_train, x_test_sat, x_test_pv_inputs, y_test\n"
      ],
      "metadata": {
        "id": "jDLQb7vkX7lS"
      },
      "execution_count": null,
      "outputs": []
    },
    {
      "cell_type": "markdown",
      "source": [
        "# Models"
      ],
      "metadata": {
        "id": "MH7ElIhBUQ9H"
      }
    },
    {
      "cell_type": "code",
      "source": [
        "def convlstm_model(n_timesteps, x_train_sat, x_train_pv_inputs, y_train, x_test_sat, x_test_pv_inputs, y_test):\n",
        "\n",
        "  inp1 = layers.Input(shape=(x_train_sat.shape[1:]), name='x_sat')\n",
        "  inp2 = layers.Input(shape=(x_train_pv_inputs.shape[1:]), name='x_pv_input')\n",
        "\n",
        "  dropout_rate = 0.5\n",
        "\n",
        "  x = layers.ConvLSTM2D(filters=32, kernel_size=(3, 3), recurrent_dropout=dropout_rate, return_sequences=True, activation=\"relu\")(inp1)\n",
        "  x = layers.MaxPooling3D(pool_size=(3,3,3))(x)\n",
        "\n",
        "  x = layers.ConvLSTM2D(filters=32, kernel_size=(3,3), recurrent_dropout=dropout_rate, return_sequences=True, activation=\"relu\") (x)\n",
        "  x = layers.MaxPooling3D(pool_size=(3,3,3))(x)\n",
        "\n",
        "  x = layers.ConvLSTM2D(filters=32, kernel_size=(3,3), recurrent_dropout=dropout_rate, return_sequences=False, activation=\"relu\") (x)\n",
        "  x = layers.MaxPooling2D(pool_size=(3,3))(x)\n",
        "\n",
        "  x = layers.Flatten()(x)\n",
        "\n",
        "  x = layers.Dense(128, activation=\"relu\")(x)\n",
        "  x = layers.Dropout(0.5)(x)\n",
        "  x = layers.Dense(128, activation=\"relu\")(x)\n",
        "  x = layers.Dropout(0.5)(x)\n",
        "  x = layers.Dense(128, activation=\"relu\")(x)\n",
        "\n",
        "  y = layers.LSTM(48)(inp2)\n",
        "\n",
        "  z = layers.concatenate([x,y])\n",
        "  z = layers.Dense(128)(z)\n",
        "  z = layers.Dropout(0.5)(z)\n",
        "  z = layers.Dense(n_timesteps, activation=\"linear\")(z)\n",
        "\n",
        "  model = keras.models.Model(inputs=[inp1, inp2], outputs=z)\n",
        "  model.compile(\n",
        "      loss='mse', optimizer=keras.optimizers.Adam(),\n",
        "  )\n",
        "\n",
        "  early_stopping = keras.callbacks.EarlyStopping(monitor=\"val_loss\", patience=10)\n",
        "  reduce_lr = keras.callbacks.ReduceLROnPlateau(monitor=\"val_loss\", patience=5)\n",
        "\n",
        "  # Training hyperparameters\n",
        "  epochs = 10\n",
        "  batch_size = 5\n",
        "\n",
        "  # Fit the model to the training data.\n",
        "  history = model.fit(\n",
        "      {\"x_sat\" : x_train_sat, \"x_pv_input\" : x_train_pv_inputs},\n",
        "      y_train,\n",
        "      batch_size=batch_size,\n",
        "      epochs=epochs,\n",
        "      validation_split=0.1, \n",
        "      callbacks=[early_stopping, reduce_lr],\n",
        "  )\n",
        "\n",
        "  plt.figure(figsize=(10,6))\n",
        "  plt.plot(history.history['loss'], label='loss')\n",
        "  plt.plot(history.history['val_loss'], '.', label='validation loss')\n",
        "  plt.xlabel('Epoch')\n",
        "  plt.ylabel('Accuracy')\n",
        "  plt.title('ConvLSTN with pv_inputs, {} minutes ahead, MSE'.format(5*n_timesteps))\n",
        "  plt.legend();\n",
        "\n",
        "  model_results = model.evaluate(\n",
        "    x={\"x_sat\": x_test_sat, \"x_pv_input\": x_test_pv_inputs},\n",
        "    y=y_test, \n",
        "    return_dict=True)\n",
        "    \n",
        "  return model_results"
      ],
      "metadata": {
        "id": "3uhn_7sWUXbM"
      },
      "execution_count": null,
      "outputs": []
    },
    {
      "cell_type": "code",
      "source": [
        "def cnn_model(n_timesteps, x_train_sat, x_train_pv_inputs, y_train, x_test_sat, x_test_pv_inputs, y_test):\n",
        "\n",
        "  inp1 = layers.Input(shape=(x_train_sat.shape[1:]), name='x_sat')\n",
        "  inp2 = layers.Input(shape=(x_train_pv_inputs.shape[1:]), name='x_pv_input')\n",
        "\n",
        "  dropout_rate = 0.5\n",
        "\n",
        "  x = layers.Conv3D(filters=32, kernel_size=(3, 3, 3), padding=\"same\", activation=\"relu\", input_shape=x_train_sat.shape[1:])(inp1)\n",
        "  x = layers.Conv3D(filters=32, kernel_size=(3, 3, 3), padding=\"same\", activation=\"relu\")(x)\n",
        "  x = layers.Conv3D(filters=32, kernel_size=(3, 3, 3), padding=\"same\", activation=\"relu\")(x)\n",
        "\n",
        "  x = layers.Flatten()(x)\n",
        "\n",
        "  x = layers.Dense(128, activation=\"relu\")(x)\n",
        "  x = layers.Dropout(0.5)(x)\n",
        "  x = layers.Dense(128, activation=\"relu\")(x)\n",
        "  x = layers.Dropout(0.5)(x)\n",
        "  x = layers.Dense(128, activation=\"relu\")(x)\n",
        "\n",
        "  y = layers.Dense(48)(inp2)\n",
        "  y = layers.Flatten()(y)\n",
        "\n",
        "\n",
        "  z = layers.concatenate([x,y])\n",
        "  z = layers.Dense(128)(z)\n",
        "  z = layers.Dropout(0.5)(z)\n",
        "  z = layers.Dense(n_timesteps, activation=\"linear\")(z)\n",
        "\n",
        "  model = keras.models.Model(inputs=[inp1, inp2], outputs=z)\n",
        "  model.compile(\n",
        "      loss='mse', optimizer=keras.optimizers.Adam(),\n",
        "  )\n",
        "\n",
        "  early_stopping = keras.callbacks.EarlyStopping(monitor=\"val_loss\", patience=10)\n",
        "  reduce_lr = keras.callbacks.ReduceLROnPlateau(monitor=\"val_loss\", patience=5)\n",
        "\n",
        "  # Training hyperparameters\n",
        "  epochs = 10\n",
        "  batch_size = 5\n",
        "\n",
        "  # Fit the model to the training data.\n",
        "  history = model.fit(\n",
        "      {\"x_sat\" : x_train_sat, \"x_pv_input\" : x_train_pv_inputs},\n",
        "      y_train,\n",
        "      batch_size=batch_size,\n",
        "      epochs=epochs,\n",
        "      validation_split=0.1, \n",
        "      callbacks=[early_stopping, reduce_lr],\n",
        "  )\n",
        "\n",
        "  plt.figure(figsize=(10,6))\n",
        "  plt.plot(history.history['loss'], label='loss')\n",
        "  plt.plot(history.history['val_loss'], '.', label='validation loss')\n",
        "  plt.xlabel('Epoch')\n",
        "  plt.ylabel('Accuracy')\n",
        "  plt.title('CNN with pv_inputs, {} minutes ahead, MSE'.format(5*n_timesteps))\n",
        "  plt.legend();\n",
        "\n",
        "  model_results = model.evaluate(\n",
        "    x={\"x_sat\": x_test_sat, \"x_pv_input\": x_test_pv_inputs},\n",
        "    y=y_test, \n",
        "    return_dict=True)\n",
        "    \n",
        "  return model_results"
      ],
      "metadata": {
        "id": "a8YzYP4uUts5"
      },
      "execution_count": null,
      "outputs": []
    },
    {
      "cell_type": "code",
      "source": [
        ""
      ],
      "metadata": {
        "id": "lpwBiAKauZjd"
      },
      "execution_count": null,
      "outputs": []
    },
    {
      "cell_type": "markdown",
      "source": [
        "# Comparison for 1hr forward, 1hr input, no padding, no mask\n",
        "\n",
        "\n"
      ],
      "metadata": {
        "id": "gwdpnNjZYKZ4"
      }
    },
    {
      "cell_type": "code",
      "source": [
        "x_train_sat, x_train_pv_inputs, y_train, x_test_sat, x_test_pv_inputs, y_test = dataloader(12, 12, train_sat_images, train_sat_times, test_sat_images, test_sat_times, train_pv, test_pv)"
      ],
      "metadata": {
        "colab": {
          "base_uri": "https://localhost:8080/"
        },
        "id": "8taqWagMud4i",
        "outputId": "1346a482-505d-440a-ebaa-2d30e72ad91d"
      },
      "execution_count": null,
      "outputs": [
        {
          "output_type": "stream",
          "name": "stdout",
          "text": [
            "Satellite and PV blocks generated.\n",
            "\n",
            "Sat images array: (2018, 12, 64, 64) , PV targets array: (2018, 12)\n",
            "Timestamps, sat (2018, 12)  , pv (2018, 12)\n",
            "PV inputs (2018, 12)\n",
            "Altitudes for PV timestamps (2018, 12)\n",
            "Satellite and PV blocks generated.\n",
            "\n",
            "Sat images array: (414, 12, 64, 64) , PV targets array: (414, 12)\n",
            "Timestamps, sat (414, 12)  , pv (414, 12)\n",
            "PV inputs (414, 12)\n",
            "Altitudes for PV timestamps (414, 12)\n"
          ]
        }
      ]
    },
    {
      "cell_type": "code",
      "source": [
        "convlstm_1hr = convlstm_model(12, x_train_sat, x_train_pv_inputs, y_train, x_test_sat, x_test_pv_inputs, y_test)"
      ],
      "metadata": {
        "colab": {
          "base_uri": "https://localhost:8080/",
          "height": 768
        },
        "id": "fGd8XI2LuvwF",
        "outputId": "c9fefb67-6bf2-4c83-a7a9-1d4f673cd823"
      },
      "execution_count": null,
      "outputs": [
        {
          "output_type": "stream",
          "name": "stdout",
          "text": [
            "Epoch 1/10\n",
            "364/364 [==============================] - 68s 124ms/step - loss: 0.0175 - val_loss: 0.0089 - lr: 0.0010\n",
            "Epoch 2/10\n",
            "364/364 [==============================] - 44s 120ms/step - loss: 0.0105 - val_loss: 0.0084 - lr: 0.0010\n",
            "Epoch 3/10\n",
            "364/364 [==============================] - 44s 120ms/step - loss: 0.0097 - val_loss: 0.0081 - lr: 0.0010\n",
            "Epoch 4/10\n",
            "364/364 [==============================] - 44s 120ms/step - loss: 0.0094 - val_loss: 0.0080 - lr: 0.0010\n",
            "Epoch 5/10\n",
            "364/364 [==============================] - 44s 120ms/step - loss: 0.0092 - val_loss: 0.0082 - lr: 0.0010\n",
            "Epoch 6/10\n",
            "364/364 [==============================] - 44s 120ms/step - loss: 0.0090 - val_loss: 0.0079 - lr: 0.0010\n",
            "Epoch 7/10\n",
            "364/364 [==============================] - 43s 119ms/step - loss: 0.0086 - val_loss: 0.0084 - lr: 0.0010\n",
            "Epoch 8/10\n",
            "364/364 [==============================] - 43s 119ms/step - loss: 0.0086 - val_loss: 0.0080 - lr: 0.0010\n",
            "Epoch 9/10\n",
            "364/364 [==============================] - 44s 120ms/step - loss: 0.0084 - val_loss: 0.0081 - lr: 0.0010\n",
            "Epoch 10/10\n",
            "364/364 [==============================] - 44s 120ms/step - loss: 0.0083 - val_loss: 0.0081 - lr: 0.0010\n",
            "13/13 [==============================] - 2s 118ms/step - loss: 0.0094\n"
          ]
        },
        {
          "output_type": "display_data",
          "data": {
            "text/plain": [
              "<Figure size 720x432 with 1 Axes>"
            ],
            "image/png": "[encoded data removed]"
          },
          "metadata": {
            "needs_background": "light"
          }
        }
      ]
    },
    {
      "cell_type": "code",
      "source": [
        "cnn_1hr = cnn_model(12, x_train_sat, x_train_pv_inputs, y_train, x_test_sat, x_test_pv_inputs, y_test)"
      ],
      "metadata": {
        "colab": {
          "base_uri": "https://localhost:8080/",
          "height": 768
        },
        "id": "Sus8XJlTxUbz",
        "outputId": "59a2c60a-d9a4-490d-9d1c-6c3730f080b5"
      },
      "execution_count": null,
      "outputs": [
        {
          "output_type": "stream",
          "name": "stdout",
          "text": [
            "Epoch 1/10\n",
            "364/364 [==============================] - 37s 101ms/step - loss: 0.9514 - val_loss: 0.0102 - lr: 0.0010\n",
            "Epoch 2/10\n",
            "364/364 [==============================] - 37s 101ms/step - loss: 0.0177 - val_loss: 0.0078 - lr: 0.0010\n",
            "Epoch 3/10\n",
            "364/364 [==============================] - 37s 101ms/step - loss: 0.0158 - val_loss: 0.0084 - lr: 0.0010\n",
            "Epoch 4/10\n",
            "364/364 [==============================] - 37s 101ms/step - loss: 0.0135 - val_loss: 0.0075 - lr: 0.0010\n",
            "Epoch 5/10\n",
            "364/364 [==============================] - 37s 101ms/step - loss: 0.0123 - val_loss: 0.0076 - lr: 0.0010\n",
            "Epoch 6/10\n",
            "364/364 [==============================] - 36s 100ms/step - loss: 0.0117 - val_loss: 0.0071 - lr: 0.0010\n",
            "Epoch 7/10\n",
            "364/364 [==============================] - 37s 100ms/step - loss: 0.0113 - val_loss: 0.0076 - lr: 0.0010\n",
            "Epoch 8/10\n",
            "364/364 [==============================] - 36s 100ms/step - loss: 0.0105 - val_loss: 0.0083 - lr: 0.0010\n",
            "Epoch 9/10\n",
            "364/364 [==============================] - 36s 100ms/step - loss: 0.0104 - val_loss: 0.0081 - lr: 0.0010\n",
            "Epoch 10/10\n",
            "364/364 [==============================] - 36s 100ms/step - loss: 0.0102 - val_loss: 0.0075 - lr: 0.0010\n",
            "13/13 [==============================] - 1s 49ms/step - loss: 0.0091\n"
          ]
        },
        {
          "output_type": "display_data",
          "data": {
            "text/plain": [
              "<Figure size 720x432 with 1 Axes>"
            ],
            "image/png": "[encoded data removed]"
          },
          "metadata": {
            "needs_background": "light"
          }
        }
      ]
    },
    {
      "cell_type": "markdown",
      "source": [
        "# Comparison for 2hr forward, 1hr input, padded, no mask\n",
        "\n",
        "\n"
      ],
      "metadata": {
        "id": "AmH_0AmjubPQ"
      }
    },
    {
      "cell_type": "code",
      "source": [
        "x_train_sat, x_train_pv_inputs, y_train, x_test_sat, x_test_pv_inputs, y_test = dataloader(24, 12, train_sat_images, train_sat_times, test_sat_images, test_sat_times, train_pv, test_pv)"
      ],
      "metadata": {
        "colab": {
          "base_uri": "https://localhost:8080/"
        },
        "id": "OBQH70UoVY_t",
        "outputId": "a0d1a726-ed06-4695-b90b-2aeedbc90b52"
      },
      "execution_count": null,
      "outputs": [
        {
          "output_type": "stream",
          "name": "stdout",
          "text": [
            "Satellite and PV blocks generated.\n",
            "\n",
            "Sat images array: (1265, 12, 64, 64) , PV targets array: (1265, 24)\n",
            "Timestamps, sat (1265, 12)  , pv (1265, 24)\n",
            "PV inputs (1265, 12)\n",
            "Altitudes for PV timestamps (1265, 24)\n",
            "Satellite and PV blocks generated.\n",
            "\n",
            "Sat images array: (256, 12, 64, 64) , PV targets array: (256, 24)\n",
            "Timestamps, sat (256, 12)  , pv (256, 24)\n",
            "PV inputs (256, 12)\n",
            "Altitudes for PV timestamps (256, 24)\n"
          ]
        }
      ]
    },
    {
      "cell_type": "code",
      "source": [
        "x_train_sat_padded = tf.keras.preprocessing.sequence.pad_sequences(x_train_sat, 24, dtype='float64', padding='post')\n",
        "x_test_sat_padded = tf.keras.preprocessing.sequence.pad_sequences(x_test_sat, 24, dtype='float64', padding='post')\n",
        "\n",
        "x_train_pv_inputs_padded = tf.keras.preprocessing.sequence.pad_sequences(x_train_pv_inputs, 24, dtype='float64', padding='post')\n",
        "x_test_pv_inputs_padded = tf.keras.preprocessing.sequence.pad_sequences(x_test_pv_inputs, 24, dtype='float64', padding='post')\n",
        "\n",
        "print(x_train_sat_padded.shape, x_train_pv_inputs_padded.shape, y_train.shape)"
      ],
      "metadata": {
        "colab": {
          "base_uri": "https://localhost:8080/"
        },
        "id": "gxj4g7wTlXXf",
        "outputId": "192a9516-7e0a-47a0-99ea-8d06f3bbd598"
      },
      "execution_count": null,
      "outputs": [
        {
          "output_type": "stream",
          "name": "stdout",
          "text": [
            "(1265, 24, 64, 64, 1) (1265, 24, 1) (1265, 24)\n"
          ]
        }
      ]
    },
    {
      "cell_type": "code",
      "source": [
        "convlstm_2hr = convlstm_model(24, x_train_sat_padded, x_train_pv_inputs_padded, y_train, x_test_sat_padded, x_test_pv_inputs_padded, y_test)"
      ],
      "metadata": {
        "id": "-LJ4LQpsNFDf",
        "colab": {
          "base_uri": "https://localhost:8080/",
          "height": 768
        },
        "outputId": "26d15b9f-3ab1-4bf6-a782-18627c6822fa"
      },
      "execution_count": null,
      "outputs": [
        {
          "output_type": "stream",
          "name": "stdout",
          "text": [
            "Epoch 1/10\n",
            "228/228 [==============================] - 62s 234ms/step - loss: 0.0393 - val_loss: 0.0177 - lr: 0.0010\n",
            "Epoch 2/10\n",
            "228/228 [==============================] - 52s 229ms/step - loss: 0.0212 - val_loss: 0.0163 - lr: 0.0010\n",
            "Epoch 3/10\n",
            "228/228 [==============================] - 52s 229ms/step - loss: 0.0188 - val_loss: 0.0184 - lr: 0.0010\n",
            "Epoch 4/10\n",
            "228/228 [==============================] - 52s 229ms/step - loss: 0.0192 - val_loss: 0.0228 - lr: 0.0010\n",
            "Epoch 5/10\n",
            "228/228 [==============================] - 52s 229ms/step - loss: 0.0171 - val_loss: 0.0147 - lr: 0.0010\n",
            "Epoch 6/10\n",
            "228/228 [==============================] - 52s 230ms/step - loss: 0.0164 - val_loss: 0.0165 - lr: 0.0010\n",
            "Epoch 7/10\n",
            "228/228 [==============================] - 52s 228ms/step - loss: 0.0161 - val_loss: 0.0174 - lr: 0.0010\n",
            "Epoch 8/10\n",
            "228/228 [==============================] - 52s 229ms/step - loss: 0.0160 - val_loss: 0.0164 - lr: 0.0010\n",
            "Epoch 9/10\n",
            "228/228 [==============================] - 52s 229ms/step - loss: 0.0154 - val_loss: 0.0160 - lr: 0.0010\n",
            "Epoch 10/10\n",
            "228/228 [==============================] - 52s 229ms/step - loss: 0.0146 - val_loss: 0.0145 - lr: 0.0010\n",
            "8/8 [==============================] - 3s 255ms/step - loss: 0.0151\n"
          ]
        },
        {
          "output_type": "display_data",
          "data": {
            "text/plain": [
              "<Figure size 720x432 with 1 Axes>"
            ],
            "image/png": "[encoded data removed]"
          },
          "metadata": {
            "needs_background": "light"
          }
        }
      ]
    },
    {
      "cell_type": "code",
      "source": [
        "# This one doesn't need padding, just takes in the dimensions of x and y\n",
        "cnn_2hr = cnn_model(24, x_train_sat, x_train_pv_inputs, y_train, x_test_sat, x_test_pv_inputs, y_test)"
      ],
      "metadata": {
        "colab": {
          "base_uri": "https://localhost:8080/",
          "height": 768
        },
        "id": "PGwYaH7SYOkO",
        "outputId": "f8e6fc14-05d2-4d72-a6fd-91579a635737"
      },
      "execution_count": null,
      "outputs": [
        {
          "output_type": "stream",
          "name": "stdout",
          "text": [
            "Epoch 1/10\n",
            "228/228 [==============================] - 21s 86ms/step - loss: 0.2002 - val_loss: 0.0184 - lr: 0.0010\n",
            "Epoch 2/10\n",
            "228/228 [==============================] - 19s 85ms/step - loss: 0.0261 - val_loss: 0.0155 - lr: 0.0010\n",
            "Epoch 3/10\n",
            "228/228 [==============================] - 19s 85ms/step - loss: 0.0200 - val_loss: 0.0147 - lr: 0.0010\n",
            "Epoch 4/10\n",
            "228/228 [==============================] - 19s 84ms/step - loss: 0.0187 - val_loss: 0.0143 - lr: 0.0010\n",
            "Epoch 5/10\n",
            "228/228 [==============================] - 19s 84ms/step - loss: 0.0178 - val_loss: 0.0134 - lr: 0.0010\n",
            "Epoch 6/10\n",
            "228/228 [==============================] - 19s 84ms/step - loss: 0.0168 - val_loss: 0.0137 - lr: 0.0010\n",
            "Epoch 7/10\n",
            "228/228 [==============================] - 19s 84ms/step - loss: 0.0163 - val_loss: 0.0132 - lr: 0.0010\n",
            "Epoch 8/10\n",
            "228/228 [==============================] - 19s 84ms/step - loss: 0.0158 - val_loss: 0.0131 - lr: 0.0010\n",
            "Epoch 9/10\n",
            "228/228 [==============================] - 19s 84ms/step - loss: 0.0153 - val_loss: 0.0152 - lr: 0.0010\n",
            "Epoch 10/10\n",
            "228/228 [==============================] - 19s 84ms/step - loss: 0.0152 - val_loss: 0.0130 - lr: 0.0010\n",
            "8/8 [==============================] - 1s 89ms/step - loss: 0.0135\n"
          ]
        },
        {
          "output_type": "display_data",
          "data": {
            "text/plain": [
              "<Figure size 720x432 with 1 Axes>"
            ],
            "image/png": "[encoded data removed]"
          },
          "metadata": {
            "needs_background": "light"
          }
        }
      ]
    },
    {
      "cell_type": "markdown",
      "source": [
        "# Comparison for 3hr forward, 1hr input, padded, no mask\n",
        "\n",
        "\n"
      ],
      "metadata": {
        "id": "bmxdcJL9ASQE"
      }
    },
    {
      "cell_type": "code",
      "source": [
        "x_train_sat, x_train_pv_inputs, y_train, x_test_sat, x_test_pv_inputs, y_test = dataloader(36, 12, train_sat_images, train_sat_times, test_sat_images, test_sat_times, train_pv, test_pv)\n",
        "\n",
        "x_train_sat_padded = tf.keras.preprocessing.sequence.pad_sequences(x_train_sat, 36, dtype='float64', padding='post')\n",
        "x_test_sat_padded = tf.keras.preprocessing.sequence.pad_sequences(x_test_sat, 36, dtype='float64', padding='post')\n",
        "\n",
        "x_train_pv_inputs_padded = tf.keras.preprocessing.sequence.pad_sequences(x_train_pv_inputs, 36, dtype='float64', padding='post')\n",
        "x_test_pv_inputs_padded = tf.keras.preprocessing.sequence.pad_sequences(x_test_pv_inputs, 36, dtype='float64', padding='post')\n",
        "\n",
        "print(x_train_sat_padded.shape, x_train_pv_inputs_padded.shape, y_train.shape)"
      ],
      "metadata": {
        "id": "pSDXaTx1O1Sn",
        "colab": {
          "base_uri": "https://localhost:8080/"
        },
        "outputId": "7e064ac9-3a0c-4dbe-9732-6dd5f1d7b223"
      },
      "execution_count": null,
      "outputs": [
        {
          "output_type": "stream",
          "name": "stdout",
          "text": [
            "Satellite and PV blocks generated.\n",
            "\n",
            "Sat images array: (897, 12, 64, 64) , PV targets array: (897, 36)\n",
            "Timestamps, sat (897, 12)  , pv (897, 36)\n",
            "PV inputs (897, 12)\n",
            "Altitudes for PV timestamps (897, 36)\n",
            "Satellite and PV blocks generated.\n",
            "\n",
            "Sat images array: (188, 12, 64, 64) , PV targets array: (188, 36)\n",
            "Timestamps, sat (188, 12)  , pv (188, 36)\n",
            "PV inputs (188, 12)\n",
            "Altitudes for PV timestamps (188, 36)\n",
            "(897, 36, 64, 64, 1) (897, 36, 1) (897, 36)\n"
          ]
        }
      ]
    },
    {
      "cell_type": "code",
      "source": [
        "convlstm_3hr = convlstm_model(36, x_train_sat_padded, x_train_pv_inputs_padded, y_train, x_test_sat_padded, x_test_pv_inputs_padded, y_test)"
      ],
      "metadata": {
        "colab": {
          "base_uri": "https://localhost:8080/",
          "height": 768
        },
        "id": "kXM7yu0Dcggx",
        "outputId": "35827488-ab58-49bb-ce2a-bc2eaeacecc3"
      },
      "execution_count": null,
      "outputs": [
        {
          "output_type": "stream",
          "name": "stdout",
          "text": [
            "Epoch 1/10\n",
            "162/162 [==============================] - 65s 348ms/step - loss: 0.0428 - val_loss: 0.0193 - lr: 0.0010\n",
            "Epoch 2/10\n",
            "162/162 [==============================] - 55s 342ms/step - loss: 0.0273 - val_loss: 0.0301 - lr: 0.0010\n",
            "Epoch 3/10\n",
            "162/162 [==============================] - 55s 339ms/step - loss: 0.0263 - val_loss: 0.0181 - lr: 0.0010\n",
            "Epoch 4/10\n",
            "162/162 [==============================] - 55s 339ms/step - loss: 0.0244 - val_loss: 0.0182 - lr: 0.0010\n",
            "Epoch 5/10\n",
            "162/162 [==============================] - 55s 337ms/step - loss: 0.0233 - val_loss: 0.0208 - lr: 0.0010\n",
            "Epoch 6/10\n",
            "162/162 [==============================] - 55s 338ms/step - loss: 0.0234 - val_loss: 0.0221 - lr: 0.0010\n",
            "Epoch 7/10\n",
            "162/162 [==============================] - 55s 342ms/step - loss: 0.0248 - val_loss: 0.0181 - lr: 0.0010\n",
            "Epoch 8/10\n",
            "162/162 [==============================] - 55s 341ms/step - loss: 0.0223 - val_loss: 0.0239 - lr: 0.0010\n",
            "Epoch 9/10\n",
            "162/162 [==============================] - 55s 339ms/step - loss: 0.0208 - val_loss: 0.0173 - lr: 1.0000e-04\n",
            "Epoch 10/10\n",
            "162/162 [==============================] - 55s 340ms/step - loss: 0.0209 - val_loss: 0.0181 - lr: 1.0000e-04\n",
            "6/6 [==============================] - 3s 336ms/step - loss: 0.0214\n"
          ]
        },
        {
          "output_type": "display_data",
          "data": {
            "text/plain": [
              "<Figure size 720x432 with 1 Axes>"
            ],
            "image/png": "[encoded data removed]"
          },
          "metadata": {
            "needs_background": "light"
          }
        }
      ]
    },
    {
      "cell_type": "code",
      "source": [
        "cnn_3hr = cnn_model(36, x_train_sat, x_train_pv_inputs, y_train, x_test_sat, x_test_pv_inputs, y_test)"
      ],
      "metadata": {
        "colab": {
          "base_uri": "https://localhost:8080/",
          "height": 768
        },
        "id": "SXSXbtclcryX",
        "outputId": "f1492838-6121-4341-bc44-c125579ff11d"
      },
      "execution_count": null,
      "outputs": [
        {
          "output_type": "stream",
          "name": "stdout",
          "text": [
            "Epoch 1/10\n",
            "162/162 [==============================] - 15s 86ms/step - loss: 0.3519 - val_loss: 0.0208 - lr: 0.0010\n",
            "Epoch 2/10\n",
            "162/162 [==============================] - 14s 84ms/step - loss: 0.0320 - val_loss: 0.0182 - lr: 0.0010\n",
            "Epoch 3/10\n",
            "162/162 [==============================] - 14s 84ms/step - loss: 0.0272 - val_loss: 0.0155 - lr: 0.0010\n",
            "Epoch 4/10\n",
            "162/162 [==============================] - 14s 85ms/step - loss: 0.0255 - val_loss: 0.0150 - lr: 0.0010\n",
            "Epoch 5/10\n",
            "162/162 [==============================] - 14s 84ms/step - loss: 0.0223 - val_loss: 0.0186 - lr: 0.0010\n",
            "Epoch 6/10\n",
            "162/162 [==============================] - 14s 84ms/step - loss: 0.0222 - val_loss: 0.0148 - lr: 0.0010\n",
            "Epoch 7/10\n",
            "162/162 [==============================] - 14s 84ms/step - loss: 0.0213 - val_loss: 0.0143 - lr: 0.0010\n",
            "Epoch 8/10\n",
            "162/162 [==============================] - 14s 84ms/step - loss: 0.0207 - val_loss: 0.0144 - lr: 0.0010\n",
            "Epoch 9/10\n",
            "162/162 [==============================] - 14s 84ms/step - loss: 0.0201 - val_loss: 0.0142 - lr: 0.0010\n",
            "Epoch 10/10\n",
            "162/162 [==============================] - 14s 84ms/step - loss: 0.0195 - val_loss: 0.0145 - lr: 0.0010\n",
            "6/6 [==============================] - 1s 126ms/step - loss: 0.0169\n"
          ]
        },
        {
          "output_type": "display_data",
          "data": {
            "text/plain": [
              "<Figure size 720x432 with 1 Axes>"
            ],
            "image/png": "[encoded data removed]"
          },
          "metadata": {
            "needs_background": "light"
          }
        }
      ]
    },
    {
      "cell_type": "code",
      "source": [
        ""
      ],
      "metadata": {
        "id": "9Y30ZEAjds4z"
      },
      "execution_count": null,
      "outputs": []
    },
    {
      "cell_type": "markdown",
      "source": [
        "# Comparison for 4hr forward, 1hr input, no mask"
      ],
      "metadata": {
        "id": "4chXluEOdtvu"
      }
    },
    {
      "cell_type": "code",
      "source": [
        "x_train_sat, x_train_pv_inputs, y_train, x_test_sat, x_test_pv_inputs, y_test = dataloader(48, 12, train_sat_images, train_sat_times, test_sat_images, test_sat_times, train_pv, test_pv)\n",
        "\n",
        "x_train_sat_padded = tf.keras.preprocessing.sequence.pad_sequences(x_train_sat, 48, dtype='float64', padding='post')\n",
        "x_test_sat_padded = tf.keras.preprocessing.sequence.pad_sequences(x_test_sat, 48, dtype='float64', padding='post')\n",
        "\n",
        "x_train_pv_inputs_padded = tf.keras.preprocessing.sequence.pad_sequences(x_train_pv_inputs, 48, dtype='float64', padding='post')\n",
        "x_test_pv_inputs_padded = tf.keras.preprocessing.sequence.pad_sequences(x_test_pv_inputs, 48, dtype='float64', padding='post')\n",
        "\n",
        "print(x_train_sat_padded.shape, x_train_pv_inputs_padded.shape, y_train.shape)"
      ],
      "metadata": {
        "colab": {
          "base_uri": "https://localhost:8080/"
        },
        "id": "m5n5XVfGdwxT",
        "outputId": "729b505c-69e7-4227-d874-534075760a14"
      },
      "execution_count": null,
      "outputs": [
        {
          "output_type": "stream",
          "name": "stdout",
          "text": [
            "Satellite and PV blocks generated.\n",
            "\n",
            "Sat images array: (659, 12, 64, 64) , PV targets array: (659, 48)\n",
            "Timestamps, sat (659, 12)  , pv (659, 48)\n",
            "PV inputs (659, 12)\n",
            "Altitudes for PV timestamps (659, 48)\n",
            "Satellite and PV blocks generated.\n",
            "\n",
            "Sat images array: (136, 12, 64, 64) , PV targets array: (136, 48)\n",
            "Timestamps, sat (136, 12)  , pv (136, 48)\n",
            "PV inputs (136, 12)\n",
            "Altitudes for PV timestamps (136, 48)\n",
            "(659, 48, 64, 64, 1) (659, 48, 1) (659, 48)\n"
          ]
        }
      ]
    },
    {
      "cell_type": "code",
      "source": [
        "convlstm_4hr = convlstm_model(48, x_train_sat_padded, x_train_pv_inputs_padded, y_train, x_test_sat_padded, x_test_pv_inputs_padded, y_test)"
      ],
      "metadata": {
        "colab": {
          "base_uri": "https://localhost:8080/",
          "height": 768
        },
        "id": "zZ_DGOWHd4CU",
        "outputId": "3ca499d5-c754-4026-a978-de6668386527"
      },
      "execution_count": null,
      "outputs": [
        {
          "output_type": "stream",
          "name": "stdout",
          "text": [
            "Epoch 1/10\n",
            "119/119 [==============================] - 61s 438ms/step - loss: 15.9832 - val_loss: 0.0496 - lr: 0.0010\n",
            "Epoch 2/10\n",
            "119/119 [==============================] - 52s 435ms/step - loss: 0.0523 - val_loss: 0.0337 - lr: 0.0010\n",
            "Epoch 3/10\n",
            "119/119 [==============================] - 51s 432ms/step - loss: 0.0406 - val_loss: 0.0258 - lr: 0.0010\n",
            "Epoch 4/10\n",
            "119/119 [==============================] - 51s 432ms/step - loss: 0.0371 - val_loss: 0.0241 - lr: 0.0010\n",
            "Epoch 5/10\n",
            "119/119 [==============================] - 52s 436ms/step - loss: 0.0365 - val_loss: 0.0260 - lr: 0.0010\n",
            "Epoch 6/10\n",
            "119/119 [==============================] - 52s 433ms/step - loss: 0.0359 - val_loss: 0.0265 - lr: 0.0010\n",
            "Epoch 7/10\n",
            "119/119 [==============================] - 52s 433ms/step - loss: 0.0318 - val_loss: 0.0253 - lr: 0.0010\n",
            "Epoch 8/10\n",
            "119/119 [==============================] - 52s 435ms/step - loss: 0.0427 - val_loss: 0.0257 - lr: 0.0010\n",
            "Epoch 9/10\n",
            "119/119 [==============================] - 51s 432ms/step - loss: 0.0333 - val_loss: 0.0251 - lr: 0.0010\n",
            "Epoch 10/10\n",
            "119/119 [==============================] - 51s 433ms/step - loss: 0.0299 - val_loss: 0.0236 - lr: 1.0000e-04\n",
            "5/5 [==============================] - 2s 364ms/step - loss: 0.0259\n"
          ]
        },
        {
          "output_type": "display_data",
          "data": {
            "text/plain": [
              "<Figure size 720x432 with 1 Axes>"
            ],
            "image/png": "[encoded data removed]"
          },
          "metadata": {
            "needs_background": "light"
          }
        }
      ]
    },
    {
      "cell_type": "code",
      "source": [
        "cnn_4hr = cnn_model(48, x_train_sat, x_train_pv_inputs, y_train, x_test_sat, x_test_pv_inputs, y_test)"
      ],
      "metadata": {
        "colab": {
          "base_uri": "https://localhost:8080/",
          "height": 768
        },
        "id": "7s5vSHOmd5zs",
        "outputId": "35736527-9c0a-45e4-c611-12592aecd365"
      },
      "execution_count": null,
      "outputs": [
        {
          "output_type": "stream",
          "name": "stdout",
          "text": [
            "Epoch 1/10\n",
            "119/119 [==============================] - 11s 83ms/step - loss: 0.1433 - val_loss: 0.0284 - lr: 0.0010\n",
            "Epoch 2/10\n",
            "119/119 [==============================] - 10s 82ms/step - loss: 0.0348 - val_loss: 0.0201 - lr: 0.0010\n",
            "Epoch 3/10\n",
            "119/119 [==============================] - 10s 82ms/step - loss: 0.0287 - val_loss: 0.0198 - lr: 0.0010\n",
            "Epoch 4/10\n",
            "119/119 [==============================] - 10s 83ms/step - loss: 0.0261 - val_loss: 0.0170 - lr: 0.0010\n",
            "Epoch 5/10\n",
            "119/119 [==============================] - 10s 83ms/step - loss: 0.0228 - val_loss: 0.0159 - lr: 0.0010\n",
            "Epoch 6/10\n",
            "119/119 [==============================] - 10s 83ms/step - loss: 0.0226 - val_loss: 0.0161 - lr: 0.0010\n",
            "Epoch 7/10\n",
            "119/119 [==============================] - 10s 83ms/step - loss: 0.0211 - val_loss: 0.0145 - lr: 0.0010\n",
            "Epoch 8/10\n",
            "119/119 [==============================] - 10s 83ms/step - loss: 0.0213 - val_loss: 0.0156 - lr: 0.0010\n",
            "Epoch 9/10\n",
            "119/119 [==============================] - 10s 83ms/step - loss: 0.0199 - val_loss: 0.0181 - lr: 0.0010\n",
            "Epoch 10/10\n",
            "119/119 [==============================] - 10s 83ms/step - loss: 0.0204 - val_loss: 0.0191 - lr: 0.0010\n",
            "5/5 [==============================] - 0s 87ms/step - loss: 0.0244\n"
          ]
        },
        {
          "output_type": "display_data",
          "data": {
            "text/plain": [
              "<Figure size 720x432 with 1 Axes>"
            ],
            "image/png": "[encoded data removed]"
          },
          "metadata": {
            "needs_background": "light"
          }
        }
      ]
    },
    {
      "cell_type": "code",
      "source": [
        ""
      ],
      "metadata": {
        "id": "0lSJL-pttPgU"
      },
      "execution_count": null,
      "outputs": []
    },
    {
      "cell_type": "markdown",
      "source": [
        "# Evaluation"
      ],
      "metadata": {
        "id": "e2-udQP5ya2c"
      }
    },
    {
      "cell_type": "code",
      "source": [
        "cnn_results = [cnn_1hr['loss'], cnn_2hr['loss'], cnn_3hr['loss'], cnn_4hr['loss']]\n",
        "convlstm_results = [convlstm_1hr['loss'], convlstm_2hr['loss'], convlstm_3hr['loss'], convlstm_4hr['loss']]\n",
        "\n",
        "print(cnn_results)\n",
        "print(convlstm_results)"
      ],
      "metadata": {
        "colab": {
          "base_uri": "https://localhost:8080/",
          "height": 235
        },
        "id": "ziJJyg8Byci2",
        "outputId": "e27b846a-b126-4fc1-edb1-2305c7a01ac1"
      },
      "execution_count": null,
      "outputs": [
        {
          "output_type": "error",
          "ename": "NameError",
          "evalue": "ignored",
          "traceback": [
            "\u001b[0;31m---------------------------------------------------------------------------\u001b[0m",
            "\u001b[0;31mNameError\u001b[0m                                 Traceback (most recent call last)",
            "\u001b[0;32m<ipython-input-23-40d76ec8cfe8>\u001b[0m in \u001b[0;36m<module>\u001b[0;34m()\u001b[0m\n\u001b[0;32m----> 1\u001b[0;31m \u001b[0mcnn_results\u001b[0m \u001b[0;34m=\u001b[0m \u001b[0;34m[\u001b[0m\u001b[0mcnn_1hr\u001b[0m\u001b[0;34m[\u001b[0m\u001b[0;34m'loss'\u001b[0m\u001b[0;34m]\u001b[0m\u001b[0;34m,\u001b[0m \u001b[0mcnn_2hr\u001b[0m\u001b[0;34m[\u001b[0m\u001b[0;34m'loss'\u001b[0m\u001b[0;34m]\u001b[0m\u001b[0;34m,\u001b[0m \u001b[0mcnn_3hr\u001b[0m\u001b[0;34m[\u001b[0m\u001b[0;34m'loss'\u001b[0m\u001b[0;34m]\u001b[0m\u001b[0;34m,\u001b[0m \u001b[0mcnn_4hr\u001b[0m\u001b[0;34m[\u001b[0m\u001b[0;34m'loss'\u001b[0m\u001b[0;34m]\u001b[0m\u001b[0;34m]\u001b[0m\u001b[0;34m\u001b[0m\u001b[0;34m\u001b[0m\u001b[0m\n\u001b[0m\u001b[1;32m      2\u001b[0m \u001b[0mconvlstm_results\u001b[0m \u001b[0;34m=\u001b[0m \u001b[0;34m[\u001b[0m\u001b[0mconvlstm_1hr\u001b[0m\u001b[0;34m[\u001b[0m\u001b[0;34m'loss'\u001b[0m\u001b[0;34m]\u001b[0m\u001b[0;34m,\u001b[0m \u001b[0mconvlstm_2hr\u001b[0m\u001b[0;34m[\u001b[0m\u001b[0;34m'loss'\u001b[0m\u001b[0;34m]\u001b[0m\u001b[0;34m,\u001b[0m \u001b[0mconvlstm_3hr\u001b[0m\u001b[0;34m[\u001b[0m\u001b[0;34m'loss'\u001b[0m\u001b[0;34m]\u001b[0m\u001b[0;34m,\u001b[0m \u001b[0mconvlstm_4hr\u001b[0m\u001b[0;34m[\u001b[0m\u001b[0;34m'loss'\u001b[0m\u001b[0;34m]\u001b[0m\u001b[0;34m]\u001b[0m\u001b[0;34m\u001b[0m\u001b[0;34m\u001b[0m\u001b[0m\n\u001b[1;32m      3\u001b[0m \u001b[0;34m\u001b[0m\u001b[0m\n\u001b[1;32m      4\u001b[0m \u001b[0mprint\u001b[0m\u001b[0;34m(\u001b[0m\u001b[0mcnn_results\u001b[0m\u001b[0;34m)\u001b[0m\u001b[0;34m\u001b[0m\u001b[0;34m\u001b[0m\u001b[0m\n\u001b[1;32m      5\u001b[0m \u001b[0mprint\u001b[0m\u001b[0;34m(\u001b[0m\u001b[0mconvlstm_results\u001b[0m\u001b[0;34m)\u001b[0m\u001b[0;34m\u001b[0m\u001b[0;34m\u001b[0m\u001b[0m\n",
            "\u001b[0;31mNameError\u001b[0m: name 'cnn_1hr' is not defined"
          ]
        }
      ]
    },
    {
      "cell_type": "code",
      "source": [
        "np.arange(4) +1"
      ],
      "metadata": {
        "id": "ZWUBK2zFz6Gf"
      },
      "execution_count": null,
      "outputs": []
    },
    {
      "cell_type": "code",
      "source": [
        "fig = plt.figure(figsize=(10,6))\n",
        "plt.plot(np.arange(4) +1 , cnn_results, label='CNN')\n",
        "plt.plot(np.arange(4) +1 , convlstm_results, label='convlstm')\n",
        "plt.title('Comparison of test error, 1hr input data')\n",
        "plt.legend();"
      ],
      "metadata": {
        "id": "5jkMkccDy0Fm"
      },
      "execution_count": null,
      "outputs": []
    },
    {
      "cell_type": "code",
      "source": [
        ""
      ],
      "metadata": {
        "id": "nKcw61Xm0EA9"
      },
      "execution_count": null,
      "outputs": []
    }
  ]
}