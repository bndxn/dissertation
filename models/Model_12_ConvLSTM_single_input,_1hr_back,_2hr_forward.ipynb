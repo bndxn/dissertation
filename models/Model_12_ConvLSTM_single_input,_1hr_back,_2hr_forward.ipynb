{
  "nbformat": 4,
  "nbformat_minor": 0,
  "metadata": {
    "colab": {
      "name": "Model 12 - ConvLSTM single input, 1hr back, 2hr forward.ipynb",
      "provenance": [],
      "collapsed_sections": [],
      "machine_shape": "hm",
      "authorship_tag": "ABX9TyPTNaMHwZfuwTwLchJUfJ7I",
      "include_colab_link": true
    },
    "kernelspec": {
      "name": "python3",
      "display_name": "Python 3"
    },
    "language_info": {
      "name": "python"
    },
    "accelerator": "GPU",
    "gpuClass": "standard"
  },
  "cells": [
    {
      "cell_type": "markdown",
      "metadata": {
        "id": "view-in-github",
        "colab_type": "text"
      },
      "source": [
        "<a href=\"https://colab.research.google.com/github/bndxn/dissertation/blob/main/Model_12_ConvLSTM_single_input%2C_1hr_back%2C_2hr_forward.ipynb\" target=\"_parent\"><img src=\"https://colab.research.google.com/assets/colab-badge.svg\" alt=\"Open In Colab\"/></a>"
      ]
    },
    {
      "cell_type": "markdown",
      "source": [
        "# Overview\n",
        "* Inputs: 12 sat readings, 128x128, Devon crop\n",
        "* Outputs: single PV reading, time + 24"
      ],
      "metadata": {
        "id": "d_lT6gAsiso9"
      }
    },
    {
      "cell_type": "code",
      "source": [
        "import numpy as np\n",
        "import pandas as pd\n",
        "from datetime import datetime\n",
        "import matplotlib.pyplot as plt\n",
        "import tqdm\n",
        "from google.colab import drive\n",
        "drive.mount('/content/drive', force_remount=True)"
      ],
      "metadata": {
        "colab": {
          "base_uri": "https://localhost:8080/"
        },
        "id": "8_HBOGNGjGDH",
        "outputId": "350542ad-c3b8-48e7-8a55-84153b9284f5"
      },
      "execution_count": null,
      "outputs": [
        {
          "output_type": "stream",
          "name": "stdout",
          "text": [
            "Mounted at /content/drive\n"
          ]
        }
      ]
    },
    {
      "cell_type": "code",
      "source": [
        "pv_df = pd.read_pickle('/content/drive/My Drive/Colab Notebooks/dissertation/uk_pv/devon_pv_readings_sun_crop_colab.pkl')\n",
        "print(pv_df.columns) # This should only have 6835, 7159, 7245, 7276, 7763\n",
        "pv_df = pd.DataFrame(pv_df['Mean']) # We actually only care about the mean value"
      ],
      "metadata": {
        "colab": {
          "base_uri": "https://localhost:8080/"
        },
        "id": "Vmq6Rd0FjJYV",
        "outputId": "059aeb73-14ff-44a5-a7a8-ed5dfb44cc14"
      },
      "execution_count": null,
      "outputs": [
        {
          "output_type": "stream",
          "name": "stdout",
          "text": [
            "Index(['6835', '7159', '7245', '7276', '7763', 'Mean', 'altitude'], dtype='object')\n"
          ]
        }
      ]
    },
    {
      "cell_type": "code",
      "source": [
        "train_sat_images = np.load('/content/drive/My Drive/Colab Notebooks/dissertation/Model 12/train_sat_images_reduced.npy')\n",
        "train_sat_times = np.load('/content/drive/My Drive/Colab Notebooks/dissertation/Model 12/train_sat_times_reduced.npy')\n",
        "\n",
        "test_sat_images = np.load('/content/drive/My Drive/Colab Notebooks/dissertation/Model 12/test_sat_images_reduced.npy')\n",
        "test_sat_times = np.load('/content/drive/My Drive/Colab Notebooks/dissertation/Model 12/test_sat_times_reduced.npy')"
      ],
      "metadata": {
        "id": "Hw8rc4772bXF"
      },
      "execution_count": null,
      "outputs": []
    },
    {
      "cell_type": "code",
      "source": [
        "print(test_sat_images.shape)\n",
        "print(test_sat_times.shape)\n",
        "\n",
        "print(train_sat_images.shape)\n",
        "print(train_sat_times.shape)\n"
      ],
      "metadata": {
        "colab": {
          "base_uri": "https://localhost:8080/"
        },
        "id": "znjPIRoG6Ixv",
        "outputId": "bd345a70-da68-4b46-88e0-e48b56d9aaac"
      },
      "execution_count": null,
      "outputs": [
        {
          "output_type": "stream",
          "name": "stdout",
          "text": [
            "(11405, 128, 128)\n",
            "(11405,)\n",
            "(56434, 128, 128)\n",
            "(56434,)\n"
          ]
        }
      ]
    },
    {
      "cell_type": "code",
      "source": [
        "# Now we want to make batches of images and PV readings, which will have to match up to the \n",
        "\n",
        "# 1. We need the blocks to be only drawn from the same day, not across different days, so we need a list of days\n",
        "\n",
        "def get_list_of_days(list_of_timestamps):\n",
        "\n",
        "  '''\n",
        "    Takes a list of timestamps, including time\n",
        "    Returns a list of unique days\n",
        "  '''\n",
        "\n",
        "  list_of_days = []\n",
        "\n",
        "  for i in list_of_timestamps:\n",
        "    list_of_days.append(pd.Timestamp(i).date())\n",
        "\n",
        "  return list(dict.fromkeys(list_of_days))\n"
      ],
      "metadata": {
        "id": "GDvopfhE3Gkm"
      },
      "execution_count": null,
      "outputs": []
    },
    {
      "cell_type": "code",
      "source": [
        "# Does it work? - yes \n",
        "\n",
        "get_list_of_days(train_sat_times)[:5]"
      ],
      "metadata": {
        "colab": {
          "base_uri": "https://localhost:8080/"
        },
        "id": "t7XErkaxyiTI",
        "outputId": "d78a7682-6f30-427a-83d3-8224447871c6"
      },
      "execution_count": null,
      "outputs": [
        {
          "output_type": "execute_result",
          "data": {
            "text/plain": [
              "[datetime.date(2020, 1, 1),\n",
              " datetime.date(2020, 1, 2),\n",
              " datetime.date(2020, 1, 3),\n",
              " datetime.date(2020, 1, 4),\n",
              " datetime.date(2020, 1, 5)]"
            ]
          },
          "metadata": {},
          "execution_count": 125
        }
      ]
    },
    {
      "cell_type": "code",
      "source": [
        "# Get all the timestamps in one day\n",
        "\n",
        "def get_blocks_of_timestamps_for_one_day(date, list_of_timestamps):\n",
        "\n",
        "  timestamps_in_day = []\n",
        "\n",
        "  for i in list_of_timestamps:\n",
        "    if pd.Timestamp(i).date() == date:\n",
        "      timestamps_in_day.append(i)\n",
        "\n",
        "  # How many blocks of three hours are there in each day?\n",
        "\n",
        "  blocks_in_day = (len(timestamps_in_day) // (12 * 3)) \n",
        "\n",
        "  block_list = []\n",
        "\n",
        "  for i in range(blocks_in_day):\n",
        "    block = timestamps_in_day[(i*12*3):(i+1)*12*3] # We make a slice from the timestamps_in_day list\n",
        "    block_list.append(block)\n",
        "\n",
        "  return np.asarray(block_list)\n"
      ],
      "metadata": {
        "id": "B3TW7O6Fv0CO"
      },
      "execution_count": null,
      "outputs": []
    },
    {
      "cell_type": "code",
      "source": [
        "def get_full_block_list(list_of_timestamps):\n",
        "\n",
        "  list_of_days = get_list_of_days(list_of_timestamps)\n",
        "\n",
        "  full_block_list = []\n",
        "\n",
        "  for day in list_of_days:\n",
        "    block_list_for_day = get_blocks_of_timestamps_for_one_day(day, list_of_timestamps)\n",
        "    \n",
        "    if block_list_for_day.shape[0] != 0: # some days there are no PV readings, exclude those\n",
        "      full_block_list.append(block_list_for_day)\n",
        "\n",
        "  full_block_list = np.concatenate(full_block_list)\n",
        "\n",
        "  return full_block_list"
      ],
      "metadata": {
        "id": "1Zehz4Kc0ObF"
      },
      "execution_count": null,
      "outputs": []
    },
    {
      "cell_type": "code",
      "source": [
        "def pv_readings_for_sat_times(selected_sat_times, pv_readings_series):\n",
        "\n",
        "  pv_readings_for_sat_times = []\n",
        "\n",
        "  for time in selected_sat_times:\n",
        "    try:\n",
        "      reading = pv_readings_series[pv_readings_series.index == time][0]\n",
        "      pv_readings_for_sat_times.append(reading)\n",
        "    except IndexError:\n",
        "      pv_readings_for_sat_times.append(0)\n",
        "  \n",
        "  pv_readings_for_sat_times = np.asarray(pv_readings_for_sat_times, dtype=object).astype('float32')\n",
        "\n",
        "  np.nan_to_num(pv_readings_for_sat_times, copy=False)\n",
        "\n",
        "  return pv_readings_for_sat_times"
      ],
      "metadata": {
        "id": "Au6sXYaty9Gh"
      },
      "execution_count": null,
      "outputs": []
    },
    {
      "cell_type": "code",
      "source": [
        "def get_sat_and_pv_blocks(full_block_list, sat_times_list, sat_images_list, pv_list):\n",
        "\n",
        "  length = full_block_list.shape[0]\n",
        "\n",
        "  sat_images_array = np.zeros(shape=(length, 12, 128, 128))\n",
        "  pv_targets_array = np.zeros(shape=(length, 24))\n",
        "\n",
        "  for i in range(full_block_list.shape[0]):\n",
        "    for j in range(full_block_list.shape[1]):\n",
        "\n",
        "      # For the first 12 values, get the satellite images, which we find using the index\n",
        "\n",
        "      if j < 12:\n",
        "        timestamp = full_block_list[i,j]\n",
        "        index = np.where(sat_times_list == timestamp)[0][0]\n",
        "        #print(j, index)\n",
        "        sat_images_array[i,j] = sat_images_list[index]\n",
        "\n",
        "      # If j is larger than 12, then get the pv readings, again using the index\n",
        "      else:\n",
        "        timestamp = full_block_list[i,j]\n",
        "        index = np.where(sat_times_list == timestamp)[0][0]\n",
        "        pv_targets_array[i,(j-12)] = pv_list[index]\n",
        "        #print(j, index)\n",
        "  print('Satellite and PV blocks generated. \\nSat images array:', sat_images_array.shape, '\\nPV targets array:', pv_targets_array.shape)\n",
        "  \n",
        "  return sat_images_array, pv_targets_array"
      ],
      "metadata": {
        "id": "f1lEWy9w7IU-"
      },
      "execution_count": null,
      "outputs": []
    },
    {
      "cell_type": "code",
      "source": [
        "# get_full_block_list(list_of_timestamps)\n",
        "# - get_blocks_of_timestamps_for_one_day \n",
        "# - get_list_of_days\n",
        "\n",
        "train_blocks = get_full_block_list(train_sat_times)\n",
        "test_blocks = get_full_block_list(test_sat_times)\n",
        "print(train_blocks.shape)\n",
        "print(test_blocks.shape)\n",
        "\n",
        "# pv_readings_for_sat_times(selected_sat_times, pv_readings_series)\n",
        "\n",
        "train_pv = pv_readings_for_sat_times(train_sat_times, pv_df.iloc[:,-1])\n",
        "test_pv = pv_readings_for_sat_times(test_sat_times, pv_df.iloc[:,-1])\n",
        "print(train_pv.shape)\n",
        "print(test_pv.shape)\n",
        "\n",
        "# get_sat_and_pv_blocks\n",
        "\n",
        "train_sat_images, train_pv_targets = get_sat_and_pv_blocks(train_blocks, sat_times_list=train_sat_times, sat_images_list=train_sat_images, pv_list=train_pv)\n",
        "test_sat_images, test_pv_targets = get_sat_and_pv_blocks(test_blocks, sat_times_list=test_sat_times, sat_images_list=test_sat_images, pv_list=test_pv)\n"
      ],
      "metadata": {
        "colab": {
          "base_uri": "https://localhost:8080/"
        },
        "id": "H8Jj_Ls-I72S",
        "outputId": "aac180d6-f682-4bbc-bdbf-389b3d9b60b0"
      },
      "execution_count": null,
      "outputs": [
        {
          "output_type": "stream",
          "name": "stdout",
          "text": [
            "(1378, 36)\n",
            "(275, 36)\n",
            "(56434,)\n",
            "(11405,)\n",
            "Satellite and PV blocks generated. \n",
            "Sat images array: (1378, 12, 128, 128) \n",
            "PV targets array: (1378, 24)\n",
            "Satellite and PV blocks generated. \n",
            "Sat images array: (275, 12, 128, 128) \n",
            "PV targets array: (275, 24)\n"
          ]
        }
      ]
    },
    {
      "cell_type": "code",
      "source": [
        "\n",
        "# Standardise the images\n",
        "\n",
        "combined_sat = np.append(test_sat_images, train_sat_images)\n",
        "sat_mean = combined_sat.mean()\n",
        "sat_std = combined_sat.std()\n",
        "\n",
        "test_sat_images = np.subtract(test_sat_images, sat_mean)\n",
        "train_sat_images = np.subtract(train_sat_images, sat_mean)\n",
        "\n",
        "# Standardise the PV targets\n",
        "\n",
        "combined_pv = np.append(test_pv_targets, train_pv_targets)\n",
        "\n",
        "pv_mean = combined_pv.mean()\n",
        "pv_std = combined_pv.std()\n",
        "\n",
        "train_pv_targets -= pv_mean\n",
        "test_pv_targets -= pv_mean\n",
        "\n",
        "train_pv_targets /= pv_std\n",
        "test_pv_targets /= pv_std\n",
        "\n"
      ],
      "metadata": {
        "id": "tllkuBg4KLTJ"
      },
      "execution_count": null,
      "outputs": []
    },
    {
      "cell_type": "code",
      "source": [
        "from sklearn import utils\n",
        "\n",
        "x_train, y_train = utils.shuffle(train_sat_images,  train_pv_targets)\n",
        "x_test, y_test = utils.shuffle(test_sat_images, test_pv_targets)\n",
        "\n",
        "x_train = np.expand_dims(x_train, axis=-1)\n",
        "x_test = np.expand_dims(x_test, axis=-1)"
      ],
      "metadata": {
        "id": "sr7oIUB6BmuP"
      },
      "execution_count": null,
      "outputs": []
    },
    {
      "cell_type": "code",
      "source": [
        "import tensorflow as tf\n",
        "from tensorflow import keras\n",
        "from keras import layers\n",
        "\n",
        "inp = layers.Input(shape=(x_train.shape[1:]))\n",
        "\n",
        "dropout_rate = 0.3\n",
        "\n",
        "x = layers.ConvLSTM2D(filters=32, kernel_size=(3, 3), dropout=dropout_rate, recurrent_dropout=dropout_rate, return_sequences=True, activation=\"relu\")(inp)\n",
        "x = layers.MaxPooling3D(pool_size=(1,2,2))(x)\n",
        "\n",
        "x = layers.ConvLSTM2D(filters=32, kernel_size=(3,3), dropout=dropout_rate, recurrent_dropout=dropout_rate, return_sequences=True) (x)\n",
        "x = layers.MaxPooling3D(pool_size=(1,3,3))(x)\n",
        "\n",
        "\n",
        "x = layers.ConvLSTM2D(filters=32, kernel_size=(3,3), dropout=dropout_rate, recurrent_dropout=dropout_rate, return_sequences=True) (x)\n",
        "x = layers.MaxPooling3D(pool_size=(1,3,3))(x)\n",
        "\n",
        "x = layers.ConvLSTM2D(filters=32, kernel_size=(3,3), dropout=dropout_rate, recurrent_dropout=dropout_rate, return_sequences=False, activation=\"relu\") (x)\n",
        "x = layers.MaxPooling2D(pool_size=(2,2))(x)\n",
        "\n",
        "x = layers.Flatten()(x)\n",
        "\n",
        "# OCF have four dense layers, size seems to be something like 8 * 3 * 3, then \n",
        "x = layers.Dense(256, activation=\"relu\")(x)\n",
        "x = layers.Dense(128, activation=\"relu\")(x)\n",
        "x = layers.Dense(128, activation=\"relu\")(x)\n",
        "x = layers.Dense(128, activation=\"relu\")(x)\n",
        "\n",
        "x = layers.Dense(24, activation='linear')(x) \n",
        "\n",
        "\n",
        "model = keras.models.Model(inp, x)\n",
        "model.compile(\n",
        "    loss='mse', optimizer=keras.optimizers.Adam(),\n",
        ")\n"
      ],
      "metadata": {
        "id": "qht3qoT07R6E"
      },
      "execution_count": null,
      "outputs": []
    },
    {
      "cell_type": "code",
      "source": [
        "early_stopping = keras.callbacks.EarlyStopping(monitor=\"val_loss\", patience=5)\n",
        "reduce_lr = keras.callbacks.ReduceLROnPlateau(monitor=\"val_loss\", patience=5)\n",
        "\n",
        "# Training hyperparameters\n",
        "epochs = 20\n",
        "batch_size = 5\n",
        "\n",
        "# Fit the model to the training data.\n",
        "history = model.fit(\n",
        "    x_train,\n",
        "    y_train,\n",
        "    batch_size=batch_size,\n",
        "    epochs=epochs,\n",
        "    validation_data=(x_test, y_test), \n",
        "    callbacks=[early_stopping, reduce_lr],\n",
        ")"
      ],
      "metadata": {
        "colab": {
          "base_uri": "https://localhost:8080/"
        },
        "id": "QkuA_3_CPYkG",
        "outputId": "bd4ffe0c-e96c-485e-ab4b-40a4f70cfa40"
      },
      "execution_count": null,
      "outputs": [
        {
          "output_type": "stream",
          "name": "stdout",
          "text": [
            "Epoch 1/20\n",
            "276/276 [==============================] - 169s 390ms/step - loss: 0.8614 - val_loss: 0.9976 - lr: 0.0010\n",
            "Epoch 2/20\n",
            "276/276 [==============================] - 107s 387ms/step - loss: 0.7131 - val_loss: 0.7347 - lr: 0.0010\n",
            "Epoch 3/20\n",
            "276/276 [==============================] - 107s 387ms/step - loss: 0.6621 - val_loss: 0.6148 - lr: 0.0010\n",
            "Epoch 4/20\n",
            "276/276 [==============================] - 106s 386ms/step - loss: 0.5990 - val_loss: 0.7070 - lr: 0.0010\n",
            "Epoch 5/20\n",
            "276/276 [==============================] - 106s 386ms/step - loss: 0.5790 - val_loss: 0.9400 - lr: 0.0010\n",
            "Epoch 6/20\n",
            "276/276 [==============================] - 106s 384ms/step - loss: 0.5489 - val_loss: 0.7320 - lr: 0.0010\n",
            "Epoch 7/20\n",
            "276/276 [==============================] - 106s 384ms/step - loss: 0.5022 - val_loss: 0.5307 - lr: 0.0010\n",
            "Epoch 8/20\n",
            "276/276 [==============================] - 106s 383ms/step - loss: 0.4936 - val_loss: 0.6342 - lr: 0.0010\n",
            "Epoch 9/20\n",
            "276/276 [==============================] - 106s 383ms/step - loss: 0.5768 - val_loss: 0.5721 - lr: 0.0010\n",
            "Epoch 10/20\n",
            "276/276 [==============================] - 106s 383ms/step - loss: 0.5823 - val_loss: 0.7842 - lr: 0.0010\n",
            "Epoch 11/20\n",
            "276/276 [==============================] - 106s 384ms/step - loss: 0.5303 - val_loss: 0.6714 - lr: 0.0010\n",
            "Epoch 12/20\n",
            "276/276 [==============================] - 106s 384ms/step - loss: 0.5034 - val_loss: 0.8327 - lr: 0.0010\n"
          ]
        }
      ]
    },
    {
      "cell_type": "code",
      "source": [
        "# How does this compare to truth?\n",
        "\n",
        "test_sat_images = np.load('/content/drive/My Drive/Colab Notebooks/dissertation/Model 12/test_sat_images_reduced.npy')\n",
        "test_sat_times = np.load('/content/drive/My Drive/Colab Notebooks/dissertation/Model 12/test_sat_times_reduced.npy')\n",
        "\n",
        "test_sat_images = np.expand_dims(test_sat_images, axis=-1)"
      ],
      "metadata": {
        "id": "-8IZgw0yQbsH"
      },
      "execution_count": null,
      "outputs": []
    },
    {
      "cell_type": "code",
      "source": [
        "fig = plt.figure(figsize=(10,10))\n",
        "\n",
        "for i in range(5):\n",
        "\n",
        "  plt.subplot(5,1,i+1)\n",
        "\n",
        "  predictions = np.squeeze(model.predict(np.expand_dims(x_test[i], axis=0)))\n",
        "\n",
        "  plt.plot(np.arange(len(predictions)), predictions, '--')\n",
        "  plt.plot(np.arange(len(y_test[i])), y_test[i])\n",
        "  plt.ylim([-2,2])\n",
        "\n",
        "plt.suptitle('Comparison of predictions 2 hours out with true values', y=0.9);"
      ],
      "metadata": {
        "colab": {
          "base_uri": "https://localhost:8080/",
          "height": 606
        },
        "id": "75TKhEZqsgbJ",
        "outputId": "20536129-b712-4a75-fa9f-4896b39545df"
      },
      "execution_count": null,
      "outputs": [
        {
          "output_type": "display_data",
          "data": {
            "text/plain": [
              "<Figure size 720x720 with 5 Axes>"
            ],
            "image/png": "[encoded data removed]"
          },
          "metadata": {
            "needs_background": "light"
          }
        }
      ]
    },
    {
      "cell_type": "code",
      "source": [
        ""
      ],
      "metadata": {
        "id": "2vczfQWOvLEq"
      },
      "execution_count": null,
      "outputs": []
    }
  ]
}