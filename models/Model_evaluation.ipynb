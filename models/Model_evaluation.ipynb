{
  "nbformat": 4,
  "nbformat_minor": 0,
  "metadata": {
    "colab": {
      "name": "Model evaluation.ipynb",
      "provenance": [],
      "mount_file_id": "1Nb5vc5YrrsEF-LZvLaK5EYPrmUGTHcmg",
      "authorship_tag": "ABX9TyNW/bjWWJzBIB8HLjfEaFza",
      "include_colab_link": true
    },
    "kernelspec": {
      "name": "python3",
      "display_name": "Python 3"
    },
    "language_info": {
      "name": "python"
    }
  },
  "cells": [
    {
      "cell_type": "markdown",
      "metadata": {
        "id": "view-in-github",
        "colab_type": "text"
      },
      "source": [
        "<a href=\"https://colab.research.google.com/github/bndxn/dissertation/blob/main/Model_evaluation.ipynb\" target=\"_parent\"><img src=\"https://colab.research.google.com/assets/colab-badge.svg\" alt=\"Open In Colab\"/></a>"
      ]
    },
    {
      "cell_type": "code",
      "execution_count": null,
      "metadata": {
        "id": "HQ7gQuDkSHBG"
      },
      "outputs": [],
      "source": [
        "import numpy as np\n",
        "import pandas as pd\n",
        "from datetime import datetime\n",
        "import matplotlib.pyplot as plt\n",
        "from google.colab import drive"
      ]
    },
    {
      "cell_type": "markdown",
      "source": [
        "**Model 20 - Persistence**\n",
        "\n",
        "[Link](https://colab.research.google.com/drive/1_I8W24DCLGo3HYcqpdvNudsOZwANRQt1#scrollTo=V7gcULgmxE1D)"
      ],
      "metadata": {
        "id": "MD13QKcjwAIc"
      }
    },
    {
      "cell_type": "code",
      "source": [
        "persistence = np.load('/content/drive/My Drive/Colab Notebooks/dissertation/model_evaluation/persistence_results.npy')\n",
        "persistence"
      ],
      "metadata": {
        "id": "YS9cdV5CSM_9",
        "colab": {
          "base_uri": "https://localhost:8080/"
        },
        "outputId": "c3214083-4e43-4518-96cd-b80a308703d1"
      },
      "execution_count": null,
      "outputs": [
        {
          "output_type": "execute_result",
          "data": {
            "text/plain": [
              "array([[  5.        ,  10.52918816],\n",
              "       [ 30.        ,  18.39684105],\n",
              "       [ 60.        ,  32.93473053],\n",
              "       [ 90.        ,  44.16902161],\n",
              "       [120.        ,  56.7976532 ],\n",
              "       [180.        ,  87.69841766],\n",
              "       [240.        , 114.4276886 ]])"
            ]
          },
          "metadata": {},
          "execution_count": 3
        }
      ]
    },
    {
      "cell_type": "code",
      "source": [
        "# Models 28B and 29B have different length inputs and outputs\n",
        "# https://colab.research.google.com/drive/1NdNIovpfmnoLA77qSx6FHgOHBoHw5ulg\n",
        "# "
      ],
      "metadata": {
        "id": "bOvGp1COrwUG"
      },
      "execution_count": null,
      "outputs": []
    },
    {
      "cell_type": "code",
      "source": [
        ""
      ],
      "metadata": {
        "id": "A2siPW-uubVL"
      },
      "execution_count": null,
      "outputs": []
    },
    {
      "cell_type": "markdown",
      "source": [
        "**Model 34** - ConvLSTM - masks on padded batches, all 1hr inputs\n",
        "\n",
        "[Link](https://colab.research.google.com/drive/12dCb9-YzdcZCtas2av_eG-1UnRFaofuQ#scrollTo=**nQotvf3YUcBg**)"
      ],
      "metadata": {
        "id": "lBcbQka_ucPv"
      }
    },
    {
      "cell_type": "code",
      "source": [
        "convlstm_masked = np.load('/content/drive/My Drive/Colab Notebooks/dissertation/model_evaluation/convlstm_masked_results.npy')\n",
        "convlstm_masked"
      ],
      "metadata": {
        "colab": {
          "base_uri": "https://localhost:8080/"
        },
        "id": "Uk-qWX0LryCa",
        "outputId": "ee67ba4b-79d9-470d-adfe-0200bac15d67"
      },
      "execution_count": null,
      "outputs": [
        {
          "output_type": "execute_result",
          "data": {
            "text/plain": [
              "array([[ 60.        ,  25.62217123],\n",
              "       [120.        ,  43.5965576 ],\n",
              "       [180.        ,  50.41267371],\n",
              "       [240.        ,  63.62264849]])"
            ]
          },
          "metadata": {},
          "execution_count": 5
        }
      ]
    },
    {
      "cell_type": "markdown",
      "source": [
        "**Model 35** - CNN - all 1hr inputs, no masking needed\n",
        "\n",
        "[Link](https://colab.research.google.com/drive/1zFpmH8VEIsaRe0eTDzInzl4M1Cfk0XlN#scrollTo=ZWUBK2zFz6Gf)"
      ],
      "metadata": {
        "id": "BvG4oG6jzD0R"
      }
    },
    {
      "cell_type": "code",
      "source": [
        "cnn = np.load('/content/drive/My Drive/Colab Notebooks/dissertation/model_evaluation/cnn_1hr_input_results.npy')\n",
        "cnn"
      ],
      "metadata": {
        "colab": {
          "base_uri": "https://localhost:8080/"
        },
        "id": "G_oxnPnOzMya",
        "outputId": "a0e58a46-d619-40c0-d83a-8b06cfc574dc"
      },
      "execution_count": null,
      "outputs": [
        {
          "output_type": "execute_result",
          "data": {
            "text/plain": [
              "array([[ 60.        ,  25.75855946],\n",
              "       [120.        ,  45.43732312],\n",
              "       [180.        ,  51.11671614],\n",
              "       [240.        ,  57.80515714]])"
            ]
          },
          "metadata": {},
          "execution_count": 6
        }
      ]
    },
    {
      "cell_type": "code",
      "source": [
        ""
      ],
      "metadata": {
        "id": "0FMIMYfuBxIT"
      },
      "execution_count": null,
      "outputs": []
    },
    {
      "cell_type": "markdown",
      "source": [
        "**Model 36** CNN - all 1hr inputs, uses 1D conv on series"
      ],
      "metadata": {
        "id": "aIXxq_EdByIS"
      }
    },
    {
      "cell_type": "code",
      "source": [
        "cnn_1d_conv = np.load('/content/drive/My Drive/Colab Notebooks/dissertation/model_evaluation/cnn_1d_conv_1hr_input_results.npy')\n",
        "cnn_1d_conv"
      ],
      "metadata": {
        "colab": {
          "base_uri": "https://localhost:8080/"
        },
        "id": "2MxC862FB5F3",
        "outputId": "673f28cd-0d7c-4797-a007-83e7b1175bee"
      },
      "execution_count": null,
      "outputs": [
        {
          "output_type": "execute_result",
          "data": {
            "text/plain": [
              "array([[ 60.        ,  24.77700323],\n",
              "       [120.        ,  39.2983214 ],\n",
              "       [180.        ,  48.16462705],\n",
              "       [240.        ,  62.65248572]])"
            ]
          },
          "metadata": {},
          "execution_count": 7
        }
      ]
    },
    {
      "cell_type": "markdown",
      "source": [
        "# Comparison of model performance with 1hr of inputs"
      ],
      "metadata": {
        "id": "mpsC5mquaLY-"
      }
    },
    {
      "cell_type": "code",
      "source": [
        "fig = plt.figure(figsize=(15,5))\n",
        "plt.plot(persistence[:,0], persistence[:,1], '--', label='Persistence', color='grey')\n",
        "plt.plot(cnn[:,0], cnn[:,1], label='CNN with PV, 1hr input')\n",
        "plt.plot(cnn_1d_conv[:,0], cnn_1d_conv[:,1], label='CNN with 1D conv on PV, 1hr input')\n",
        "plt.plot(convlstm_masked[:,0], convlstm_masked[:,1], label='ConvLSTM with PV, 1hr input')\n",
        "plt.ylabel('MSE (Solar PV yield in kW)')\n",
        "plt.title('MSE per model by length of prediction window')\n",
        "plt.xlabel('Length of prediction window in minutes')\n",
        "plt.xticks(np.multiply([0,1,2,3,4,5],60))\n",
        "plt.ylim([0,120])\n",
        "plt.legend();"
      ],
      "metadata": {
        "id": "etRZ3IVenNf9",
        "colab": {
          "base_uri": "https://localhost:8080/",
          "height": 350
        },
        "outputId": "3d8d804c-0f9f-4148-ff08-0d87533c5e8d"
      },
      "execution_count": null,
      "outputs": [
        {
          "output_type": "display_data",
          "data": {
            "text/plain": [
              "<Figure size 1080x360 with 1 Axes>"
            ],
            "image/png": "[encoded data removed]"
          },
          "metadata": {
            "needs_background": "light"
          }
        }
      ]
    },
    {
      "cell_type": "code",
      "source": [
        ""
      ],
      "metadata": {
        "id": "d-3_aShFG8wd"
      },
      "execution_count": null,
      "outputs": []
    },
    {
      "cell_type": "markdown",
      "source": [
        "# Comparison, 2hrs of input data"
      ],
      "metadata": {
        "id": "RSB9blr8HBZE"
      }
    },
    {
      "cell_type": "code",
      "source": [
        ""
      ],
      "metadata": {
        "id": "LbNTHpoNHDat"
      },
      "execution_count": null,
      "outputs": []
    }
  ]
}