{
 "cells": [
  {
   "cell_type": "code",
   "execution_count": 1,
   "metadata": {},
   "outputs": [
    {
     "name": "stdout",
     "output_type": "stream",
     "text": [
      "Defaulting to user installation because normal site-packages is not writeable\n",
      "Collecting suncalc\n",
      "  Downloading suncalc-0.1.2.tar.gz (10 kB)\n",
      "  Preparing metadata (setup.py) ... \u001b[?25ldone\n",
      "\u001b[?25hRequirement already satisfied: numpy in /home/ben/.local/lib/python3.10/site-packages (from suncalc) (1.22.4)\n",
      "Building wheels for collected packages: suncalc\n",
      "  Building wheel for suncalc (setup.py) ... \u001b[?25ldone\n",
      "\u001b[?25h  Created wheel for suncalc: filename=suncalc-0.1.2-py3-none-any.whl size=9505 sha256=a75a70ef220ee505b878f82addebf09594511b078bc262921939c6352b6b91ba\n",
      "  Stored in directory: /home/ben/.cache/pip/wheels/8c/08/1a/1e62d0a81b66c72b97dcfc2f35cb4f8d79a9ebaeaa886af7ed\n",
      "Successfully built suncalc\n",
      "Installing collected packages: suncalc\n",
      "Successfully installed suncalc-0.1.2\n",
      "\u001b[33mWARNING: There was an error checking the latest version of pip.\u001b[0m\u001b[33m\n",
      "\u001b[0mNote: you may need to restart the kernel to use updated packages.\n"
     ]
    }
   ],
   "source": [
    "pip install suncalc"
   ]
  },
  {
   "cell_type": "code",
   "execution_count": 3,
   "metadata": {},
   "outputs": [],
   "source": [
    "from suncalc import get_position, get_times\n",
    "from datetime import datetime\n",
    "import numpy as np\n",
    "import pandas as pd\n",
    "import matplotlib.pyplot as plt\n",
    "import tqdm"
   ]
  },
  {
   "cell_type": "code",
   "execution_count": 14,
   "metadata": {},
   "outputs": [
    {
     "name": "stdout",
     "output_type": "stream",
     "text": [
      "Index(['6835', '7159', '7245', '7276', '7763', 'Mean'], dtype='object')\n"
     ]
    }
   ],
   "source": [
    "pv_df = pd.read_pickle('~/Repositories/dissertation/data/devon_pv_readings.pkl')\n",
    "print(pv_df.columns) # This should only have 6835, 7159, 7245, 7276, 7763\n",
    "pv_df = pd.DataFrame(pv_df['Mean']) # We actually only care about the mean value"
   ]
  },
  {
   "cell_type": "code",
   "execution_count": 18,
   "metadata": {},
   "outputs": [
    {
     "data": {
      "text/html": [
       "<div>\n",
       "<style scoped>\n",
       "    .dataframe tbody tr th:only-of-type {\n",
       "        vertical-align: middle;\n",
       "    }\n",
       "\n",
       "    .dataframe tbody tr th {\n",
       "        vertical-align: top;\n",
       "    }\n",
       "\n",
       "    .dataframe thead th {\n",
       "        text-align: right;\n",
       "    }\n",
       "</style>\n",
       "<table border=\"1\" class=\"dataframe\">\n",
       "  <thead>\n",
       "    <tr style=\"text-align: right;\">\n",
       "      <th></th>\n",
       "      <th>ss_id</th>\n",
       "      <th>latitude_rounded</th>\n",
       "      <th>longitude_rounded</th>\n",
       "      <th>llsoacd</th>\n",
       "      <th>orientation</th>\n",
       "      <th>tilt</th>\n",
       "      <th>kwp</th>\n",
       "      <th>operational_at</th>\n",
       "      <th>geometry</th>\n",
       "    </tr>\n",
       "  </thead>\n",
       "  <tbody>\n",
       "    <tr>\n",
       "      <th>4430</th>\n",
       "      <td>6835</td>\n",
       "      <td>50.74</td>\n",
       "      <td>-4.00</td>\n",
       "      <td>E01020330</td>\n",
       "      <td>270.0</td>\n",
       "      <td>40.0</td>\n",
       "      <td>3.99</td>\n",
       "      <td>2012-10-10</td>\n",
       "      <td>POINT (-4.00000 50.74000)</td>\n",
       "    </tr>\n",
       "    <tr>\n",
       "      <th>4754</th>\n",
       "      <td>7159</td>\n",
       "      <td>50.64</td>\n",
       "      <td>-4.36</td>\n",
       "      <td>E01018949</td>\n",
       "      <td>160.0</td>\n",
       "      <td>32.0</td>\n",
       "      <td>3.92</td>\n",
       "      <td>2013-02-07</td>\n",
       "      <td>POINT (-4.36000 50.64000)</td>\n",
       "    </tr>\n",
       "    <tr>\n",
       "      <th>4840</th>\n",
       "      <td>7245</td>\n",
       "      <td>50.74</td>\n",
       "      <td>-4.01</td>\n",
       "      <td>E01020329</td>\n",
       "      <td>135.0</td>\n",
       "      <td>45.0</td>\n",
       "      <td>4.00</td>\n",
       "      <td>2013-02-18</td>\n",
       "      <td>POINT (-4.01000 50.74000)</td>\n",
       "    </tr>\n",
       "    <tr>\n",
       "      <th>4871</th>\n",
       "      <td>7276</td>\n",
       "      <td>50.77</td>\n",
       "      <td>-4.13</td>\n",
       "      <td>E01020322</td>\n",
       "      <td>180.0</td>\n",
       "      <td>30.0</td>\n",
       "      <td>3.92</td>\n",
       "      <td>2013-03-01</td>\n",
       "      <td>POINT (-4.13000 50.77000)</td>\n",
       "    </tr>\n",
       "    <tr>\n",
       "      <th>5358</th>\n",
       "      <td>7763</td>\n",
       "      <td>50.76</td>\n",
       "      <td>-4.46</td>\n",
       "      <td>E01018974</td>\n",
       "      <td>186.0</td>\n",
       "      <td>5.0</td>\n",
       "      <td>4.00</td>\n",
       "      <td>2013-08-21</td>\n",
       "      <td>POINT (-4.46000 50.76000)</td>\n",
       "    </tr>\n",
       "  </tbody>\n",
       "</table>\n",
       "</div>"
      ],
      "text/plain": [
       "      ss_id  latitude_rounded  longitude_rounded    llsoacd  orientation  \\\n",
       "4430   6835             50.74              -4.00  E01020330        270.0   \n",
       "4754   7159             50.64              -4.36  E01018949        160.0   \n",
       "4840   7245             50.74              -4.01  E01020329        135.0   \n",
       "4871   7276             50.77              -4.13  E01020322        180.0   \n",
       "5358   7763             50.76              -4.46  E01018974        186.0   \n",
       "\n",
       "      tilt   kwp operational_at                   geometry  \n",
       "4430  40.0  3.99     2012-10-10  POINT (-4.00000 50.74000)  \n",
       "4754  32.0  3.92     2013-02-07  POINT (-4.36000 50.64000)  \n",
       "4840  45.0  4.00     2013-02-18  POINT (-4.01000 50.74000)  \n",
       "4871  30.0  3.92     2013-03-01  POINT (-4.13000 50.77000)  \n",
       "5358   5.0  4.00     2013-08-21  POINT (-4.46000 50.76000)  "
      ]
     },
     "execution_count": 18,
     "metadata": {},
     "output_type": "execute_result"
    }
   ],
   "source": [
    "metadata_df = pd.read_pickle('~/Repositories/dissertation/data/devon_pv_metadata.pkl')\n",
    "metadata_df"
   ]
  },
  {
   "cell_type": "code",
   "execution_count": 25,
   "metadata": {},
   "outputs": [
    {
     "name": "stdout",
     "output_type": "stream",
     "text": [
      "Average lat, lon : 50.73 -4.19\n"
     ]
    }
   ],
   "source": [
    "lat = round(metadata_df.latitude_rounded.mean(),2)\n",
    "lon = round(metadata_df.longitude_rounded.mean(),2)\n",
    "print('Average lat, lon :', lat, lon)"
   ]
  },
  {
   "cell_type": "code",
   "execution_count": 26,
   "metadata": {},
   "outputs": [],
   "source": [
    "pv_df['altitude'] = get_position(pv_df.index, lon, lat).get('altitude')"
   ]
  },
  {
   "cell_type": "code",
   "execution_count": 27,
   "metadata": {},
   "outputs": [
    {
     "data": {
      "text/plain": [
       "<AxesSubplot:xlabel='datetime'>"
      ]
     },
     "execution_count": 27,
     "metadata": {},
     "output_type": "execute_result"
    },
    {
     "data": {
      "image/png": "[encoded data removed]",
      "text/plain": [
       "<Figure size 432x288 with 1 Axes>"
      ]
     },
     "metadata": {
      "needs_background": "light"
     },
     "output_type": "display_data"
    }
   ],
   "source": [
    "pv_df.altitude.plot()"
   ]
  },
  {
   "cell_type": "code",
   "execution_count": 30,
   "metadata": {},
   "outputs": [
    {
     "data": {
      "text/plain": [
       "<AxesSubplot:xlabel='datetime'>"
      ]
     },
     "execution_count": 30,
     "metadata": {},
     "output_type": "execute_result"
    },
    {
     "data": {
      "image/png": "[encoded data removed]",
      "text/plain": [
       "<Figure size 432x288 with 1 Axes>"
      ]
     },
     "metadata": {
      "needs_background": "light"
     },
     "output_type": "display_data"
    }
   ],
   "source": [
    "pv_df.altitude[:500].plot() # Highest point at midday "
   ]
  },
  {
   "cell_type": "code",
   "execution_count": 34,
   "metadata": {},
   "outputs": [
    {
     "data": {
      "text/plain": [
       "<AxesSubplot:xlabel='datetime'>"
      ]
     },
     "execution_count": 34,
     "metadata": {},
     "output_type": "execute_result"
    },
    {
     "data": {
      "image/png": "[encoded data removed]",
      "text/plain": [
       "<Figure size 432x288 with 1 Axes>"
      ]
     },
     "metadata": {
      "needs_background": "light"
     },
     "output_type": "display_data"
    }
   ],
   "source": [
    "pv_df_sun_crop = pv_df[pv_df.altitude > (5/90)]\n",
    "pv_df_sun_crop.Mean[:500].plot()"
   ]
  },
  {
   "cell_type": "code",
   "execution_count": 35,
   "metadata": {},
   "outputs": [],
   "source": [
    "pv_df_sun_crop.to_pickle(\"~/Repositories/dissertation/data/devon_pv_readings_sun_crop.pkl\")"
   ]
  },
  {
   "cell_type": "code",
   "execution_count": 36,
   "metadata": {},
   "outputs": [
    {
     "data": {
      "text/plain": [
       "387254"
      ]
     },
     "execution_count": 36,
     "metadata": {},
     "output_type": "execute_result"
    }
   ],
   "source": [
    "len(pv_df)"
   ]
  },
  {
   "cell_type": "code",
   "execution_count": 37,
   "metadata": {},
   "outputs": [
    {
     "data": {
      "text/plain": [
       "191768"
      ]
     },
     "execution_count": 37,
     "metadata": {},
     "output_type": "execute_result"
    }
   ],
   "source": [
    "len(pv_df_sun_crop)"
   ]
  },
  {
   "cell_type": "code",
   "execution_count": 38,
   "metadata": {},
   "outputs": [
    {
     "data": {
      "text/html": [
       "<div>\n",
       "<style scoped>\n",
       "    .dataframe tbody tr th:only-of-type {\n",
       "        vertical-align: middle;\n",
       "    }\n",
       "\n",
       "    .dataframe tbody tr th {\n",
       "        vertical-align: top;\n",
       "    }\n",
       "\n",
       "    .dataframe thead th {\n",
       "        text-align: right;\n",
       "    }\n",
       "</style>\n",
       "<table border=\"1\" class=\"dataframe\">\n",
       "  <thead>\n",
       "    <tr style=\"text-align: right;\">\n",
       "      <th></th>\n",
       "      <th>Mean</th>\n",
       "      <th>altitude</th>\n",
       "    </tr>\n",
       "    <tr>\n",
       "      <th>datetime</th>\n",
       "      <th></th>\n",
       "      <th></th>\n",
       "    </tr>\n",
       "  </thead>\n",
       "  <tbody>\n",
       "    <tr>\n",
       "      <th>2018-01-01 08:55:00</th>\n",
       "      <td>4.852596</td>\n",
       "      <td>0.060437</td>\n",
       "    </tr>\n",
       "    <tr>\n",
       "      <th>2018-01-01 09:00:00</th>\n",
       "      <td>11.429791</td>\n",
       "      <td>0.070311</td>\n",
       "    </tr>\n",
       "    <tr>\n",
       "      <th>2018-01-01 09:05:00</th>\n",
       "      <td>22.030056</td>\n",
       "      <td>0.080014</td>\n",
       "    </tr>\n",
       "    <tr>\n",
       "      <th>2018-01-01 09:10:00</th>\n",
       "      <td>33.880486</td>\n",
       "      <td>0.089542</td>\n",
       "    </tr>\n",
       "    <tr>\n",
       "      <th>2018-01-01 09:15:00</th>\n",
       "      <td>55.284920</td>\n",
       "      <td>0.098891</td>\n",
       "    </tr>\n",
       "    <tr>\n",
       "      <th>...</th>\n",
       "      <td>...</td>\n",
       "      <td>...</td>\n",
       "    </tr>\n",
       "    <tr>\n",
       "      <th>2021-10-27 16:10:00</th>\n",
       "      <td>39.371063</td>\n",
       "      <td>0.115234</td>\n",
       "    </tr>\n",
       "    <tr>\n",
       "      <th>2021-10-27 16:15:00</th>\n",
       "      <td>31.176411</td>\n",
       "      <td>0.103167</td>\n",
       "    </tr>\n",
       "    <tr>\n",
       "      <th>2021-10-27 16:20:00</th>\n",
       "      <td>24.779907</td>\n",
       "      <td>0.090984</td>\n",
       "    </tr>\n",
       "    <tr>\n",
       "      <th>2021-10-27 16:25:00</th>\n",
       "      <td>15.420665</td>\n",
       "      <td>0.078688</td>\n",
       "    </tr>\n",
       "    <tr>\n",
       "      <th>2021-10-27 16:30:00</th>\n",
       "      <td>12.243648</td>\n",
       "      <td>0.066284</td>\n",
       "    </tr>\n",
       "  </tbody>\n",
       "</table>\n",
       "<p>191768 rows × 2 columns</p>\n",
       "</div>"
      ],
      "text/plain": [
       "                          Mean  altitude\n",
       "datetime                                \n",
       "2018-01-01 08:55:00   4.852596  0.060437\n",
       "2018-01-01 09:00:00  11.429791  0.070311\n",
       "2018-01-01 09:05:00  22.030056  0.080014\n",
       "2018-01-01 09:10:00  33.880486  0.089542\n",
       "2018-01-01 09:15:00  55.284920  0.098891\n",
       "...                        ...       ...\n",
       "2021-10-27 16:10:00  39.371063  0.115234\n",
       "2021-10-27 16:15:00  31.176411  0.103167\n",
       "2021-10-27 16:20:00  24.779907  0.090984\n",
       "2021-10-27 16:25:00  15.420665  0.078688\n",
       "2021-10-27 16:30:00  12.243648  0.066284\n",
       "\n",
       "[191768 rows x 2 columns]"
      ]
     },
     "execution_count": 38,
     "metadata": {},
     "output_type": "execute_result"
    }
   ],
   "source": [
    "pv_df_sun_crop"
   ]
  },
  {
   "cell_type": "code",
   "execution_count": null,
   "metadata": {},
   "outputs": [],
   "source": []
  }
 ],
 "metadata": {
  "kernelspec": {
   "display_name": "Python 3.10.5 64-bit",
   "language": "python",
   "name": "python3"
  },
  "language_info": {
   "codemirror_mode": {
    "name": "ipython",
    "version": 3
   },
   "file_extension": ".py",
   "mimetype": "text/x-python",
   "name": "python",
   "nbconvert_exporter": "python",
   "pygments_lexer": "ipython3",
   "version": "3.10.5"
  },
  "orig_nbformat": 4,
  "vscode": {
   "interpreter": {
    "hash": "97cc609b13305c559618ec78a438abc56230b9381f827f22d070313b9a1f3777"
   }
  }
 },
 "nbformat": 4,
 "nbformat_minor": 2
}
